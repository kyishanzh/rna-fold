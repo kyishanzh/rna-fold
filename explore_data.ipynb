{
 "cells": [
  {
   "cell_type": "markdown",
   "metadata": {},
   "source": [
    "## Steps for downloading data from Kaggle\n",
    "\n",
    "1. Set up API key (create new API token -> download json file -> move to ~/.kaggle/kaggle.json)\n",
    "2. Install Kaggle CLI, join competition on Kaggle\n",
    "3. `kaggle competitions download -c stanford-rna-3d-folding -p ../data`\n",
    "4. Unzip the data"
   ]
  },
  {
   "cell_type": "markdown",
   "metadata": {},
   "source": [
    "## Data exploration"
   ]
  },
  {
   "cell_type": "code",
   "execution_count": null,
   "metadata": {},
   "outputs": [],
   "source": [
    "# imports\n",
    "import pandas as pd\n",
    "import numpy as np\n",
    "import matplotlib.pyplot as plt\n",
    "import seaborn as sns\n",
    "import os\n",
    "from Bio import AlignIO, SeqIO\n",
    "import plotly.express as px\n",
    "import plotly.graph_objects as go\n",
    "from collections import Counter\n",
    "import matplotlib.patches as mpatches"
   ]
  },
  {
   "cell_type": "code",
   "execution_count": 4,
   "metadata": {},
   "outputs": [
    {
     "name": "stdout",
     "output_type": "stream",
     "text": [
      "Train labels shape: (137095, 6)\n",
      "Train sequences shape: (844, 5)\n"
     ]
    },
    {
     "data": {
      "text/html": [
       "<div>\n",
       "<style scoped>\n",
       "    .dataframe tbody tr th:only-of-type {\n",
       "        vertical-align: middle;\n",
       "    }\n",
       "\n",
       "    .dataframe tbody tr th {\n",
       "        vertical-align: top;\n",
       "    }\n",
       "\n",
       "    .dataframe thead th {\n",
       "        text-align: right;\n",
       "    }\n",
       "</style>\n",
       "<table border=\"1\" class=\"dataframe\">\n",
       "  <thead>\n",
       "    <tr style=\"text-align: right;\">\n",
       "      <th></th>\n",
       "      <th>ID</th>\n",
       "      <th>resname</th>\n",
       "      <th>resid</th>\n",
       "      <th>x_1</th>\n",
       "      <th>y_1</th>\n",
       "      <th>z_1</th>\n",
       "    </tr>\n",
       "  </thead>\n",
       "  <tbody>\n",
       "    <tr>\n",
       "      <th>0</th>\n",
       "      <td>1SCL_A_1</td>\n",
       "      <td>G</td>\n",
       "      <td>1</td>\n",
       "      <td>13.760</td>\n",
       "      <td>-25.974001</td>\n",
       "      <td>0.102</td>\n",
       "    </tr>\n",
       "    <tr>\n",
       "      <th>1</th>\n",
       "      <td>1SCL_A_2</td>\n",
       "      <td>G</td>\n",
       "      <td>2</td>\n",
       "      <td>9.310</td>\n",
       "      <td>-29.638000</td>\n",
       "      <td>2.669</td>\n",
       "    </tr>\n",
       "    <tr>\n",
       "      <th>2</th>\n",
       "      <td>1SCL_A_3</td>\n",
       "      <td>G</td>\n",
       "      <td>3</td>\n",
       "      <td>5.529</td>\n",
       "      <td>-27.813000</td>\n",
       "      <td>5.878</td>\n",
       "    </tr>\n",
       "    <tr>\n",
       "      <th>3</th>\n",
       "      <td>1SCL_A_4</td>\n",
       "      <td>U</td>\n",
       "      <td>4</td>\n",
       "      <td>2.678</td>\n",
       "      <td>-24.900999</td>\n",
       "      <td>9.793</td>\n",
       "    </tr>\n",
       "    <tr>\n",
       "      <th>4</th>\n",
       "      <td>1SCL_A_5</td>\n",
       "      <td>G</td>\n",
       "      <td>5</td>\n",
       "      <td>1.827</td>\n",
       "      <td>-20.136000</td>\n",
       "      <td>11.793</td>\n",
       "    </tr>\n",
       "  </tbody>\n",
       "</table>\n",
       "</div>"
      ],
      "text/plain": [
       "         ID resname  resid     x_1        y_1     z_1\n",
       "0  1SCL_A_1       G      1  13.760 -25.974001   0.102\n",
       "1  1SCL_A_2       G      2   9.310 -29.638000   2.669\n",
       "2  1SCL_A_3       G      3   5.529 -27.813000   5.878\n",
       "3  1SCL_A_4       U      4   2.678 -24.900999   9.793\n",
       "4  1SCL_A_5       G      5   1.827 -20.136000  11.793"
      ]
     },
     "metadata": {},
     "output_type": "display_data"
    },
    {
     "data": {
      "text/html": [
       "<div>\n",
       "<style scoped>\n",
       "    .dataframe tbody tr th:only-of-type {\n",
       "        vertical-align: middle;\n",
       "    }\n",
       "\n",
       "    .dataframe tbody tr th {\n",
       "        vertical-align: top;\n",
       "    }\n",
       "\n",
       "    .dataframe thead th {\n",
       "        text-align: right;\n",
       "    }\n",
       "</style>\n",
       "<table border=\"1\" class=\"dataframe\">\n",
       "  <thead>\n",
       "    <tr style=\"text-align: right;\">\n",
       "      <th></th>\n",
       "      <th>target_id</th>\n",
       "      <th>sequence</th>\n",
       "      <th>temporal_cutoff</th>\n",
       "      <th>description</th>\n",
       "      <th>all_sequences</th>\n",
       "    </tr>\n",
       "  </thead>\n",
       "  <tbody>\n",
       "    <tr>\n",
       "      <th>0</th>\n",
       "      <td>1SCL_A</td>\n",
       "      <td>GGGUGCUCAGUACGAGAGGAACCGCACCC</td>\n",
       "      <td>1995-01-26</td>\n",
       "      <td>THE SARCIN-RICIN LOOP, A MODULAR RNA</td>\n",
       "      <td>&gt;1SCL_1|Chain A|RNA SARCIN-RICIN LOOP|Rattus n...</td>\n",
       "    </tr>\n",
       "    <tr>\n",
       "      <th>1</th>\n",
       "      <td>1RNK_A</td>\n",
       "      <td>GGCGCAGUGGGCUAGCGCCACUCAAAAGGCCCAU</td>\n",
       "      <td>1995-02-27</td>\n",
       "      <td>THE STRUCTURE OF AN RNA PSEUDOKNOT THAT CAUSES...</td>\n",
       "      <td>&gt;1RNK_1|Chain A|RNA PSEUDOKNOT|null\\nGGCGCAGUG...</td>\n",
       "    </tr>\n",
       "    <tr>\n",
       "      <th>2</th>\n",
       "      <td>1RHT_A</td>\n",
       "      <td>GGGACUGACGAUCACGCAGUCUAU</td>\n",
       "      <td>1995-06-03</td>\n",
       "      <td>24-MER RNA HAIRPIN COAT PROTEIN BINDING SITE F...</td>\n",
       "      <td>&gt;1RHT_1|Chain A|RNA (5'-R(P*GP*GP*GP*AP*CP*UP*...</td>\n",
       "    </tr>\n",
       "    <tr>\n",
       "      <th>3</th>\n",
       "      <td>1HLX_A</td>\n",
       "      <td>GGGAUAACUUCGGUUGUCCC</td>\n",
       "      <td>1995-09-15</td>\n",
       "      <td>P1 HELIX NUCLEIC ACIDS (DNA/RNA) RIBONUCLEIC ACID</td>\n",
       "      <td>&gt;1HLX_1|Chain A|RNA (5'-R(*GP*GP*GP*AP*UP*AP*A...</td>\n",
       "    </tr>\n",
       "    <tr>\n",
       "      <th>4</th>\n",
       "      <td>1HMH_E</td>\n",
       "      <td>GGCGACCCUGAUGAGGCCGAAAGGCCGAAACCGU</td>\n",
       "      <td>1995-12-07</td>\n",
       "      <td>THREE-DIMENSIONAL STRUCTURE OF A HAMMERHEAD RI...</td>\n",
       "      <td>&gt;1HMH_1|Chains A, C, E|HAMMERHEAD RIBOZYME-RNA...</td>\n",
       "    </tr>\n",
       "  </tbody>\n",
       "</table>\n",
       "</div>"
      ],
      "text/plain": [
       "  target_id                            sequence temporal_cutoff  \\\n",
       "0    1SCL_A       GGGUGCUCAGUACGAGAGGAACCGCACCC      1995-01-26   \n",
       "1    1RNK_A  GGCGCAGUGGGCUAGCGCCACUCAAAAGGCCCAU      1995-02-27   \n",
       "2    1RHT_A            GGGACUGACGAUCACGCAGUCUAU      1995-06-03   \n",
       "3    1HLX_A                GGGAUAACUUCGGUUGUCCC      1995-09-15   \n",
       "4    1HMH_E  GGCGACCCUGAUGAGGCCGAAAGGCCGAAACCGU      1995-12-07   \n",
       "\n",
       "                                         description  \\\n",
       "0               THE SARCIN-RICIN LOOP, A MODULAR RNA   \n",
       "1  THE STRUCTURE OF AN RNA PSEUDOKNOT THAT CAUSES...   \n",
       "2  24-MER RNA HAIRPIN COAT PROTEIN BINDING SITE F...   \n",
       "3  P1 HELIX NUCLEIC ACIDS (DNA/RNA) RIBONUCLEIC ACID   \n",
       "4  THREE-DIMENSIONAL STRUCTURE OF A HAMMERHEAD RI...   \n",
       "\n",
       "                                       all_sequences  \n",
       "0  >1SCL_1|Chain A|RNA SARCIN-RICIN LOOP|Rattus n...  \n",
       "1  >1RNK_1|Chain A|RNA PSEUDOKNOT|null\\nGGCGCAGUG...  \n",
       "2  >1RHT_1|Chain A|RNA (5'-R(P*GP*GP*GP*AP*CP*UP*...  \n",
       "3  >1HLX_1|Chain A|RNA (5'-R(*GP*GP*GP*AP*UP*AP*A...  \n",
       "4  >1HMH_1|Chains A, C, E|HAMMERHEAD RIBOZYME-RNA...  "
      ]
     },
     "metadata": {},
     "output_type": "display_data"
    }
   ],
   "source": [
    "# set plotting style\n",
    "plt.style.use('ggplot')\n",
    "sns.set_theme(style=\"whitegrid\")\n",
    "\n",
    "# load data\n",
    "data_path = \"data/\"\n",
    "train_labels = pd.read_csv(os.path.join(data_path, \"train_labels.csv\"))\n",
    "train_sequences = pd.read_csv(os.path.join(data_path, \"train_sequences.csv\"))\n",
    "\n",
    "# display basic information\n",
    "print(\"Train labels shape:\", train_labels.shape)\n",
    "print(\"Train sequences shape:\", train_sequences.shape)\n",
    "\n",
    "# checking first rows\n",
    "display(train_labels.head())\n",
    "display(train_sequences.head())"
   ]
  },
  {
   "cell_type": "code",
   "execution_count": 5,
   "metadata": {},
   "outputs": [
    {
     "data": {
      "text/html": [
       "<div>\n",
       "<style scoped>\n",
       "    .dataframe tbody tr th:only-of-type {\n",
       "        vertical-align: middle;\n",
       "    }\n",
       "\n",
       "    .dataframe tbody tr th {\n",
       "        vertical-align: top;\n",
       "    }\n",
       "\n",
       "    .dataframe thead th {\n",
       "        text-align: right;\n",
       "    }\n",
       "</style>\n",
       "<table border=\"1\" class=\"dataframe\">\n",
       "  <thead>\n",
       "    <tr style=\"text-align: right;\">\n",
       "      <th></th>\n",
       "      <th>resid</th>\n",
       "      <th>x_1</th>\n",
       "      <th>y_1</th>\n",
       "      <th>z_1</th>\n",
       "    </tr>\n",
       "  </thead>\n",
       "  <tbody>\n",
       "    <tr>\n",
       "      <th>count</th>\n",
       "      <td>137095.000000</td>\n",
       "      <td>130950.000000</td>\n",
       "      <td>130950.000000</td>\n",
       "      <td>130950.000000</td>\n",
       "    </tr>\n",
       "    <tr>\n",
       "      <th>mean</th>\n",
       "      <td>897.255633</td>\n",
       "      <td>80.447315</td>\n",
       "      <td>84.040727</td>\n",
       "      <td>98.611226</td>\n",
       "    </tr>\n",
       "    <tr>\n",
       "      <th>std</th>\n",
       "      <td>1014.321987</td>\n",
       "      <td>147.422319</td>\n",
       "      <td>114.928902</td>\n",
       "      <td>119.410665</td>\n",
       "    </tr>\n",
       "    <tr>\n",
       "      <th>min</th>\n",
       "      <td>1.000000</td>\n",
       "      <td>-821.085999</td>\n",
       "      <td>-449.414001</td>\n",
       "      <td>-333.403992</td>\n",
       "    </tr>\n",
       "    <tr>\n",
       "      <th>25%</th>\n",
       "      <td>61.000000</td>\n",
       "      <td>-1.115750</td>\n",
       "      <td>-4.890750</td>\n",
       "      <td>2.218500</td>\n",
       "    </tr>\n",
       "    <tr>\n",
       "      <th>50%</th>\n",
       "      <td>481.000000</td>\n",
       "      <td>62.651501</td>\n",
       "      <td>67.901501</td>\n",
       "      <td>72.938499</td>\n",
       "    </tr>\n",
       "    <tr>\n",
       "      <th>75%</th>\n",
       "      <td>1459.500000</td>\n",
       "      <td>178.809753</td>\n",
       "      <td>170.451996</td>\n",
       "      <td>184.531750</td>\n",
       "    </tr>\n",
       "    <tr>\n",
       "      <th>max</th>\n",
       "      <td>4298.000000</td>\n",
       "      <td>849.887024</td>\n",
       "      <td>889.507996</td>\n",
       "      <td>668.776978</td>\n",
       "    </tr>\n",
       "  </tbody>\n",
       "</table>\n",
       "</div>"
      ],
      "text/plain": [
       "               resid            x_1            y_1            z_1\n",
       "count  137095.000000  130950.000000  130950.000000  130950.000000\n",
       "mean      897.255633      80.447315      84.040727      98.611226\n",
       "std      1014.321987     147.422319     114.928902     119.410665\n",
       "min         1.000000    -821.085999    -449.414001    -333.403992\n",
       "25%        61.000000      -1.115750      -4.890750       2.218500\n",
       "50%       481.000000      62.651501      67.901501      72.938499\n",
       "75%      1459.500000     178.809753     170.451996     184.531750\n",
       "max      4298.000000     849.887024     889.507996     668.776978"
      ]
     },
     "metadata": {},
     "output_type": "display_data"
    },
    {
     "name": "stdout",
     "output_type": "stream",
     "text": [
      "Missing values in train_labels: 18435\n",
      "Missing values in train_sequences: 5\n"
     ]
    },
    {
     "data": {
      "image/png": "[encoded data removed]",
      "text/plain": [
       "<Figure size 1000x600 with 1 Axes>"
      ]
     },
     "metadata": {},
     "output_type": "display_data"
    },
    {
     "data": {
      "text/html": [
       "<div>\n",
       "<style scoped>\n",
       "    .dataframe tbody tr th:only-of-type {\n",
       "        vertical-align: middle;\n",
       "    }\n",
       "\n",
       "    .dataframe tbody tr th {\n",
       "        vertical-align: top;\n",
       "    }\n",
       "\n",
       "    .dataframe thead th {\n",
       "        text-align: right;\n",
       "    }\n",
       "</style>\n",
       "<table border=\"1\" class=\"dataframe\">\n",
       "  <thead>\n",
       "    <tr style=\"text-align: right;\">\n",
       "      <th></th>\n",
       "      <th>A</th>\n",
       "      <th>C</th>\n",
       "      <th>G</th>\n",
       "      <th>U</th>\n",
       "    </tr>\n",
       "  </thead>\n",
       "  <tbody>\n",
       "    <tr>\n",
       "      <th>count</th>\n",
       "      <td>844.000000</td>\n",
       "      <td>844.000000</td>\n",
       "      <td>844.000000</td>\n",
       "      <td>844.000000</td>\n",
       "    </tr>\n",
       "    <tr>\n",
       "      <th>mean</th>\n",
       "      <td>0.230887</td>\n",
       "      <td>0.253518</td>\n",
       "      <td>0.298922</td>\n",
       "      <td>0.216579</td>\n",
       "    </tr>\n",
       "    <tr>\n",
       "      <th>std</th>\n",
       "      <td>0.093352</td>\n",
       "      <td>0.072652</td>\n",
       "      <td>0.074965</td>\n",
       "      <td>0.095611</td>\n",
       "    </tr>\n",
       "    <tr>\n",
       "      <th>min</th>\n",
       "      <td>0.000000</td>\n",
       "      <td>0.000000</td>\n",
       "      <td>0.000000</td>\n",
       "      <td>0.000000</td>\n",
       "    </tr>\n",
       "    <tr>\n",
       "      <th>25%</th>\n",
       "      <td>0.181818</td>\n",
       "      <td>0.210526</td>\n",
       "      <td>0.259259</td>\n",
       "      <td>0.161400</td>\n",
       "    </tr>\n",
       "    <tr>\n",
       "      <th>50%</th>\n",
       "      <td>0.227273</td>\n",
       "      <td>0.252754</td>\n",
       "      <td>0.300000</td>\n",
       "      <td>0.213810</td>\n",
       "    </tr>\n",
       "    <tr>\n",
       "      <th>75%</th>\n",
       "      <td>0.272727</td>\n",
       "      <td>0.296547</td>\n",
       "      <td>0.344828</td>\n",
       "      <td>0.260870</td>\n",
       "    </tr>\n",
       "    <tr>\n",
       "      <th>max</th>\n",
       "      <td>1.000000</td>\n",
       "      <td>0.545455</td>\n",
       "      <td>0.545455</td>\n",
       "      <td>1.000000</td>\n",
       "    </tr>\n",
       "  </tbody>\n",
       "</table>\n",
       "</div>"
      ],
      "text/plain": [
       "                A           C           G           U\n",
       "count  844.000000  844.000000  844.000000  844.000000\n",
       "mean     0.230887    0.253518    0.298922    0.216579\n",
       "std      0.093352    0.072652    0.074965    0.095611\n",
       "min      0.000000    0.000000    0.000000    0.000000\n",
       "25%      0.181818    0.210526    0.259259    0.161400\n",
       "50%      0.227273    0.252754    0.300000    0.213810\n",
       "75%      0.272727    0.296547    0.344828    0.260870\n",
       "max      1.000000    0.545455    0.545455    1.000000"
      ]
     },
     "metadata": {},
     "output_type": "display_data"
    },
    {
     "data": {
      "image/png": "[encoded data removed]",
      "text/plain": [
       "<Figure size 800x600 with 1 Axes>"
      ]
     },
     "metadata": {},
     "output_type": "display_data"
    }
   ],
   "source": [
    "# basic stats\n",
    "display(train_labels.describe())\n",
    "\n",
    "# check missing vals\n",
    "print(\"Missing values in train_labels:\", train_labels.isnull().sum().sum())\n",
    "print(\"Missing values in train_sequences:\", train_sequences.isnull().sum().sum())\n",
    "\n",
    "# distribution of sequence lengths\n",
    "train_sequences['sequence_length'] = train_sequences['sequence'].apply(len)\n",
    "plt.figure(figsize=(10, 6))\n",
    "sns.histplot(train_sequences['sequence_length'], bins=50, kde=True)\n",
    "plt.title('Distribution of RNA Sequence Lengths')\n",
    "plt.xlabel('Sequence Length')\n",
    "plt.ylabel('Count')\n",
    "plt.show()\n",
    "\n",
    "# nucleotide composition\n",
    "def nucleotide_composition(seq):\n",
    "    return {base: seq.count(base)/len(seq) for base in 'ACGU'}\n",
    "\n",
    "# apply nucleotide composition to all sequences\n",
    "nucleotide_comp = train_sequences['sequence'].apply(nucleotide_composition).apply(pd.Series)\n",
    "nucleotide_stats = nucleotide_comp.describe()\n",
    "display(nucleotide_stats)\n",
    "\n",
    "# average nucleotide composition\n",
    "plt.figure(figsize=(8, 6))\n",
    "sns.barplot(x=nucleotide_stats.columns, y=nucleotide_stats.loc['mean'])\n",
    "plt.title('Average Nucleotide Composition')\n",
    "plt.ylabel('Frequency')\n",
    "plt.show()"
   ]
  },
  {
   "cell_type": "markdown",
   "metadata": {},
   "source": [
    "### MSA exploration"
   ]
  },
  {
   "cell_type": "code",
   "execution_count": 8,
   "metadata": {},
   "outputs": [
    {
     "data": {
      "image/png": "[encoded data removed]",
      "text/plain": [
       "<Figure size 1500x1000 with 1 Axes>"
      ]
     },
     "metadata": {},
     "output_type": "display_data"
    },
    {
     "data": {
      "application/vnd.plotly.v1+json": {
       "config": {
        "plotlyServerURL": "https://plot.ly"
       },
       "data": [
        {
         "hovertemplate": "Position=%{x}<br>Conservation Score=%{y}<extra></extra>",
         "legendgroup": "",
         "line": {
          "color": "#636efa",
          "dash": "solid"
         },
         "marker": {
          "symbol": "circle"
         },
         "mode": "lines",
         "name": "",
         "orientation": "v",
         "showlegend": false,
         "type": "scatter",
         "x": {
          "bdata": "AAECAwQFBgcICQoLDA0ODxAREg==",
          "dtype": "i1"
         },
         "xaxis": "x",
         "y": {
          "bdata": "F1100UUX3T/ylCBPCfLUP3TRRRdddOE/a9+w9g1r7z9r37D2DWvvP2vfsPYNa+8/AAAAAAAA8D9r37D2DWvvP+0b1r5h7es/8pQgTwny5D9r37D2DWvvP2vfsPYNa+8/37D2DWvf4D8AAAAAAADwPwAAAAAAAPA/AAAAAAAA8D/fsPYNa9/gP9+w9g1r3+A/HNa+Ye0b1j8=",
          "dtype": "f8"
         },
         "yaxis": "y"
        }
       ],
       "layout": {
        "legend": {
         "tracegroupgap": 0
        },
        "template": {
         "data": {
          "bar": [
           {
            "error_x": {
             "color": "#2a3f5f"
            },
            "error_y": {
             "color": "#2a3f5f"
            },
            "marker": {
             "line": {
              "color": "#E5ECF6",
              "width": 0.5
             },
             "pattern": {
              "fillmode": "overlay",
              "size": 10,
              "solidity": 0.2
             }
            },
            "type": "bar"
           }
          ],
          "barpolar": [
           {
            "marker": {
             "line": {
              "color": "#E5ECF6",
              "width": 0.5
             },
             "pattern": {
              "fillmode": "overlay",
              "size": 10,
              "solidity": 0.2
             }
            },
            "type": "barpolar"
           }
          ],
          "carpet": [
           {
            "aaxis": {
             "endlinecolor": "#2a3f5f",
             "gridcolor": "white",
             "linecolor": "white",
             "minorgridcolor": "white",
             "startlinecolor": "#2a3f5f"
            },
            "baxis": {
             "endlinecolor": "#2a3f5f",
             "gridcolor": "white",
             "linecolor": "white",
             "minorgridcolor": "white",
             "startlinecolor": "#2a3f5f"
            },
            "type": "carpet"
           }
          ],
          "choropleth": [
           {
            "colorbar": {
             "outlinewidth": 0,
             "ticks": ""
            },
            "type": "choropleth"
           }
          ],
          "contour": [
           {
            "colorbar": {
             "outlinewidth": 0,
             "ticks": ""
            },
            "colorscale": [
             [
              0,
              "#0d0887"
             ],
             [
              0.1111111111111111,
              "#46039f"
             ],
             [
              0.2222222222222222,
              "#7201a8"
             ],
             [
              0.3333333333333333,
              "#9c179e"
             ],
             [
              0.4444444444444444,
              "#bd3786"
             ],
             [
              0.5555555555555556,
              "#d8576b"
             ],
             [
              0.6666666666666666,
              "#ed7953"
             ],
             [
              0.7777777777777778,
              "#fb9f3a"
             ],
             [
              0.8888888888888888,
              "#fdca26"
             ],
             [
              1,
              "#f0f921"
             ]
            ],
            "type": "contour"
           }
          ],
          "contourcarpet": [
           {
            "colorbar": {
             "outlinewidth": 0,
             "ticks": ""
            },
            "type": "contourcarpet"
           }
          ],
          "heatmap": [
           {
            "colorbar": {
             "outlinewidth": 0,
             "ticks": ""
            },
            "colorscale": [
             [
              0,
              "#0d0887"
             ],
             [
              0.1111111111111111,
              "#46039f"
             ],
             [
              0.2222222222222222,
              "#7201a8"
             ],
             [
              0.3333333333333333,
              "#9c179e"
             ],
             [
              0.4444444444444444,
              "#bd3786"
             ],
             [
              0.5555555555555556,
              "#d8576b"
             ],
             [
              0.6666666666666666,
              "#ed7953"
             ],
             [
              0.7777777777777778,
              "#fb9f3a"
             ],
             [
              0.8888888888888888,
              "#fdca26"
             ],
             [
              1,
              "#f0f921"
             ]
            ],
            "type": "heatmap"
           }
          ],
          "histogram": [
           {
            "marker": {
             "pattern": {
              "fillmode": "overlay",
              "size": 10,
              "solidity": 0.2
             }
            },
            "type": "histogram"
           }
          ],
          "histogram2d": [
           {
            "colorbar": {
             "outlinewidth": 0,
             "ticks": ""
            },
            "colorscale": [
             [
              0,
              "#0d0887"
             ],
             [
              0.1111111111111111,
              "#46039f"
             ],
             [
              0.2222222222222222,
              "#7201a8"
             ],
             [
              0.3333333333333333,
              "#9c179e"
             ],
             [
              0.4444444444444444,
              "#bd3786"
             ],
             [
              0.5555555555555556,
              "#d8576b"
             ],
             [
              0.6666666666666666,
              "#ed7953"
             ],
             [
              0.7777777777777778,
              "#fb9f3a"
             ],
             [
              0.8888888888888888,
              "#fdca26"
             ],
             [
              1,
              "#f0f921"
             ]
            ],
            "type": "histogram2d"
           }
          ],
          "histogram2dcontour": [
           {
            "colorbar": {
             "outlinewidth": 0,
             "ticks": ""
            },
            "colorscale": [
             [
              0,
              "#0d0887"
             ],
             [
              0.1111111111111111,
              "#46039f"
             ],
             [
              0.2222222222222222,
              "#7201a8"
             ],
             [
              0.3333333333333333,
              "#9c179e"
             ],
             [
              0.4444444444444444,
              "#bd3786"
             ],
             [
              0.5555555555555556,
              "#d8576b"
             ],
             [
              0.6666666666666666,
              "#ed7953"
             ],
             [
              0.7777777777777778,
              "#fb9f3a"
             ],
             [
              0.8888888888888888,
              "#fdca26"
             ],
             [
              1,
              "#f0f921"
             ]
            ],
            "type": "histogram2dcontour"
           }
          ],
          "mesh3d": [
           {
            "colorbar": {
             "outlinewidth": 0,
             "ticks": ""
            },
            "type": "mesh3d"
           }
          ],
          "parcoords": [
           {
            "line": {
             "colorbar": {
              "outlinewidth": 0,
              "ticks": ""
             }
            },
            "type": "parcoords"
           }
          ],
          "pie": [
           {
            "automargin": true,
            "type": "pie"
           }
          ],
          "scatter": [
           {
            "fillpattern": {
             "fillmode": "overlay",
             "size": 10,
             "solidity": 0.2
            },
            "type": "scatter"
           }
          ],
          "scatter3d": [
           {
            "line": {
             "colorbar": {
              "outlinewidth": 0,
              "ticks": ""
             }
            },
            "marker": {
             "colorbar": {
              "outlinewidth": 0,
              "ticks": ""
             }
            },
            "type": "scatter3d"
           }
          ],
          "scattercarpet": [
           {
            "marker": {
             "colorbar": {
              "outlinewidth": 0,
              "ticks": ""
             }
            },
            "type": "scattercarpet"
           }
          ],
          "scattergeo": [
           {
            "marker": {
             "colorbar": {
              "outlinewidth": 0,
              "ticks": ""
             }
            },
            "type": "scattergeo"
           }
          ],
          "scattergl": [
           {
            "marker": {
             "colorbar": {
              "outlinewidth": 0,
              "ticks": ""
             }
            },
            "type": "scattergl"
           }
          ],
          "scattermap": [
           {
            "marker": {
             "colorbar": {
              "outlinewidth": 0,
              "ticks": ""
             }
            },
            "type": "scattermap"
           }
          ],
          "scattermapbox": [
           {
            "marker": {
             "colorbar": {
              "outlinewidth": 0,
              "ticks": ""
             }
            },
            "type": "scattermapbox"
           }
          ],
          "scatterpolar": [
           {
            "marker": {
             "colorbar": {
              "outlinewidth": 0,
              "ticks": ""
             }
            },
            "type": "scatterpolar"
           }
          ],
          "scatterpolargl": [
           {
            "marker": {
             "colorbar": {
              "outlinewidth": 0,
              "ticks": ""
             }
            },
            "type": "scatterpolargl"
           }
          ],
          "scatterternary": [
           {
            "marker": {
             "colorbar": {
              "outlinewidth": 0,
              "ticks": ""
             }
            },
            "type": "scatterternary"
           }
          ],
          "surface": [
           {
            "colorbar": {
             "outlinewidth": 0,
             "ticks": ""
            },
            "colorscale": [
             [
              0,
              "#0d0887"
             ],
             [
              0.1111111111111111,
              "#46039f"
             ],
             [
              0.2222222222222222,
              "#7201a8"
             ],
             [
              0.3333333333333333,
              "#9c179e"
             ],
             [
              0.4444444444444444,
              "#bd3786"
             ],
             [
              0.5555555555555556,
              "#d8576b"
             ],
             [
              0.6666666666666666,
              "#ed7953"
             ],
             [
              0.7777777777777778,
              "#fb9f3a"
             ],
             [
              0.8888888888888888,
              "#fdca26"
             ],
             [
              1,
              "#f0f921"
             ]
            ],
            "type": "surface"
           }
          ],
          "table": [
           {
            "cells": {
             "fill": {
              "color": "#EBF0F8"
             },
             "line": {
              "color": "white"
             }
            },
            "header": {
             "fill": {
              "color": "#C8D4E3"
             },
             "line": {
              "color": "white"
             }
            },
            "type": "table"
           }
          ]
         },
         "layout": {
          "annotationdefaults": {
           "arrowcolor": "#2a3f5f",
           "arrowhead": 0,
           "arrowwidth": 1
          },
          "autotypenumbers": "strict",
          "coloraxis": {
           "colorbar": {
            "outlinewidth": 0,
            "ticks": ""
           }
          },
          "colorscale": {
           "diverging": [
            [
             0,
             "#8e0152"
            ],
            [
             0.1,
             "#c51b7d"
            ],
            [
             0.2,
             "#de77ae"
            ],
            [
             0.3,
             "#f1b6da"
            ],
            [
             0.4,
             "#fde0ef"
            ],
            [
             0.5,
             "#f7f7f7"
            ],
            [
             0.6,
             "#e6f5d0"
            ],
            [
             0.7,
             "#b8e186"
            ],
            [
             0.8,
             "#7fbc41"
            ],
            [
             0.9,
             "#4d9221"
            ],
            [
             1,
             "#276419"
            ]
           ],
           "sequential": [
            [
             0,
             "#0d0887"
            ],
            [
             0.1111111111111111,
             "#46039f"
            ],
            [
             0.2222222222222222,
             "#7201a8"
            ],
            [
             0.3333333333333333,
             "#9c179e"
            ],
            [
             0.4444444444444444,
             "#bd3786"
            ],
            [
             0.5555555555555556,
             "#d8576b"
            ],
            [
             0.6666666666666666,
             "#ed7953"
            ],
            [
             0.7777777777777778,
             "#fb9f3a"
            ],
            [
             0.8888888888888888,
             "#fdca26"
            ],
            [
             1,
             "#f0f921"
            ]
           ],
           "sequentialminus": [
            [
             0,
             "#0d0887"
            ],
            [
             0.1111111111111111,
             "#46039f"
            ],
            [
             0.2222222222222222,
             "#7201a8"
            ],
            [
             0.3333333333333333,
             "#9c179e"
            ],
            [
             0.4444444444444444,
             "#bd3786"
            ],
            [
             0.5555555555555556,
             "#d8576b"
            ],
            [
             0.6666666666666666,
             "#ed7953"
            ],
            [
             0.7777777777777778,
             "#fb9f3a"
            ],
            [
             0.8888888888888888,
             "#fdca26"
            ],
            [
             1,
             "#f0f921"
            ]
           ]
          },
          "colorway": [
           "#636efa",
           "#EF553B",
           "#00cc96",
           "#ab63fa",
           "#FFA15A",
           "#19d3f3",
           "#FF6692",
           "#B6E880",
           "#FF97FF",
           "#FECB52"
          ],
          "font": {
           "color": "#2a3f5f"
          },
          "geo": {
           "bgcolor": "white",
           "lakecolor": "white",
           "landcolor": "#E5ECF6",
           "showlakes": true,
           "showland": true,
           "subunitcolor": "white"
          },
          "hoverlabel": {
           "align": "left"
          },
          "hovermode": "closest",
          "mapbox": {
           "style": "light"
          },
          "paper_bgcolor": "white",
          "plot_bgcolor": "#E5ECF6",
          "polar": {
           "angularaxis": {
            "gridcolor": "white",
            "linecolor": "white",
            "ticks": ""
           },
           "bgcolor": "#E5ECF6",
           "radialaxis": {
            "gridcolor": "white",
            "linecolor": "white",
            "ticks": ""
           }
          },
          "scene": {
           "xaxis": {
            "backgroundcolor": "#E5ECF6",
            "gridcolor": "white",
            "gridwidth": 2,
            "linecolor": "white",
            "showbackground": true,
            "ticks": "",
            "zerolinecolor": "white"
           },
           "yaxis": {
            "backgroundcolor": "#E5ECF6",
            "gridcolor": "white",
            "gridwidth": 2,
            "linecolor": "white",
            "showbackground": true,
            "ticks": "",
            "zerolinecolor": "white"
           },
           "zaxis": {
            "backgroundcolor": "#E5ECF6",
            "gridcolor": "white",
            "gridwidth": 2,
            "linecolor": "white",
            "showbackground": true,
            "ticks": "",
            "zerolinecolor": "white"
           }
          },
          "shapedefaults": {
           "line": {
            "color": "#2a3f5f"
           }
          },
          "ternary": {
           "aaxis": {
            "gridcolor": "white",
            "linecolor": "white",
            "ticks": ""
           },
           "baxis": {
            "gridcolor": "white",
            "linecolor": "white",
            "ticks": ""
           },
           "bgcolor": "#E5ECF6",
           "caxis": {
            "gridcolor": "white",
            "linecolor": "white",
            "ticks": ""
           }
          },
          "title": {
           "x": 0.05
          },
          "xaxis": {
           "automargin": true,
           "gridcolor": "white",
           "linecolor": "white",
           "ticks": "",
           "title": {
            "standoff": 15
           },
           "zerolinecolor": "white",
           "zerolinewidth": 2
          },
          "yaxis": {
           "automargin": true,
           "gridcolor": "white",
           "linecolor": "white",
           "ticks": "",
           "title": {
            "standoff": 15
           },
           "zerolinecolor": "white",
           "zerolinewidth": 2
          }
         }
        },
        "title": {
         "text": "Conservation Score Across MSA: 1ATO_A.MSA.fasta"
        },
        "xaxis": {
         "anchor": "y",
         "domain": [
          0,
          1
         ],
         "title": {
          "text": "Position in Alignment"
         }
        },
        "yaxis": {
         "anchor": "x",
         "domain": [
          0,
          1
         ],
         "range": [
          0,
          1
         ],
         "title": {
          "text": "Conservation Score (0-1)"
         }
        }
       }
      }
     },
     "metadata": {},
     "output_type": "display_data"
    }
   ],
   "source": [
    "# visualizing MSA data :D!\n",
    "msa_path = \"MSA\"\n",
    "\n",
    "# assuming MSA files are in Stockholm format (.sto) or aligned FASTA (.afa)\n",
    "def visualize_msa(msa_file, sample_size=100, figsize=(15, 10)):\n",
    "    \"\"\"Visualize a sample from Multiple Sequence Alignment\"\"\"\n",
    "    try:\n",
    "        alignment = AlignIO.read(msa_file, \"stockholm\")\n",
    "    except:\n",
    "        try:\n",
    "            alignment = AlignIO.read(msa_file, \"fasta\")\n",
    "        except:\n",
    "            print(f\"Could not read {msa_file} as Stockholm or FASTA format\")\n",
    "            return\n",
    "    \n",
    "    # sample sequences if there are too many\n",
    "    if len(alignment) > sample_size:\n",
    "        indices = np.random.choice(len(alignment), sample_size, replace=False)\n",
    "        sampled_records = [alignment[i] for i in indices]\n",
    "        alignment = alignment.__class__(sampled_records)\n",
    "    \n",
    "    # convert alignment to a character array for visualization\n",
    "    align_array = np.array([list(rec) for rec in alignment])\n",
    "    \n",
    "    # map nucleotides to colors\n",
    "    color_map = {'A': 'red', 'C': 'blue', 'G': 'green', 'U': 'purple', 'T': 'purple', \n",
    "                 '-': 'white', '.': 'white', 'N': 'gray'}\n",
    "    \n",
    "    # color array\n",
    "    color_array = np.zeros(align_array.shape, dtype='U10')\n",
    "    for i in range(align_array.shape[0]):\n",
    "        for j in range(align_array.shape[1]):\n",
    "            color_array[i, j] = color_map.get(align_array[i, j], 'black')\n",
    "    \n",
    "    # plot\n",
    "    _, ax = plt.subplots(figsize=figsize)\n",
    "    ax.imshow(np.arange(align_array.shape[0]).reshape(-1, 1), aspect='auto', alpha=0)\n",
    "    \n",
    "    # add colored cells\n",
    "    for i in range(align_array.shape[0]):\n",
    "        for j in range(align_array.shape[1]):\n",
    "            if color_array[i, j] != 'white':\n",
    "                ax.add_patch(mpatches.Rectangle((j-0.5, i-0.5), 1, 1, \n",
    "                                               facecolor=color_array[i, j], \n",
    "                                               edgecolor='none', alpha=0.8))\n",
    "    \n",
    "    # legend\n",
    "    legend_elements = [mpatches.Patch(facecolor=color, label=nuc) \n",
    "                       for nuc, color in color_map.items() \n",
    "                       if color != 'white']\n",
    "    ax.legend(handles=legend_elements, bbox_to_anchor=(1.05, 1), loc='upper left')\n",
    "    \n",
    "    plt.title(f'Multiple Sequence Alignment Visualization: {os.path.basename(msa_file)}')\n",
    "    plt.xlabel('Position')\n",
    "    plt.ylabel('Sequence')\n",
    "    plt.tight_layout()\n",
    "    plt.show()\n",
    "\n",
    "visualize_msa(os.path.join(data_path, f\"{msa_path}/1ATO_A.MSA.fasta\"))\n",
    "\n",
    "# interactive MSA visualization with plotly\n",
    "def interactive_msa_heatmap(msa_file, sample_size=100):\n",
    "    \"\"\"Create an interactive heatmap of MSA conservation\"\"\"\n",
    "    try:\n",
    "        alignment = AlignIO.read(msa_file, \"stockholm\")\n",
    "    except:\n",
    "        try:\n",
    "            alignment = AlignIO.read(msa_file, \"fasta\")\n",
    "        except:\n",
    "            print(f\"Could not read {msa_file} as Stockholm or FASTA format\")\n",
    "            return\n",
    "    \n",
    "    if len(alignment) > sample_size:\n",
    "        indices = np.random.choice(len(alignment), sample_size, replace=False)\n",
    "        sampled_records = [alignment[i] for i in indices]\n",
    "        alignment = alignment.__class__(sampled_records)\n",
    "    \n",
    "    # calculate conservation at each position\n",
    "    align_length = alignment.get_alignment_length()\n",
    "    conservation = []\n",
    "    \n",
    "    for i in range(align_length):\n",
    "        column = alignment[:, i]\n",
    "        counts = Counter(column)\n",
    "        # remove gaps\n",
    "        if '-' in counts:\n",
    "            del counts['-']\n",
    "        if '.' in counts:\n",
    "            del counts['.']\n",
    "        \n",
    "        # calculating conservation as frequency of most common nucleotide\n",
    "        if counts:\n",
    "            most_common = counts.most_common(1)[0][1]\n",
    "            conservation.append(most_common / sum(counts.values()))\n",
    "        else:\n",
    "            conservation.append(0)\n",
    "    \n",
    "    # plot\n",
    "    fig = px.line(x=list(range(align_length)), y=conservation,\n",
    "                 labels={'x': 'Position', 'y': 'Conservation Score'},\n",
    "                 title=f'Conservation Score Across MSA: {os.path.basename(msa_file)}')\n",
    "    \n",
    "    fig.update_layout(\n",
    "        xaxis_title='Position in Alignment',\n",
    "        yaxis_title='Conservation Score (0-1)',\n",
    "        yaxis=dict(range=[0, 1])\n",
    "    )\n",
    "    \n",
    "    fig.show()\n",
    "\n",
    "interactive_msa_heatmap(os.path.join(data_path, f\"{msa_path}/1ATO_A.MSA.fasta\"))"
   ]
  },
  {
   "cell_type": "markdown",
   "metadata": {},
   "source": [
    "## Visualizing RNA structure (labels)"
   ]
  },
  {
   "cell_type": "code",
   "execution_count": 11,
   "metadata": {},
   "outputs": [
    {
     "data": {
      "application/vnd.plotly.v1+json": {
       "config": {
        "plotlyServerURL": "https://plot.ly"
       },
       "data": [
        {
         "customdata": [
          [
           1,
           "G"
          ],
          [
           2,
           "G"
          ],
          [
           3,
           "G"
          ],
          [
           4,
           "G"
          ],
          [
           5,
           "G"
          ],
          [
           11,
           "G"
          ],
          [
           14,
           "G"
          ],
          [
           17,
           "G"
          ],
          [
           19,
           "G"
          ],
          [
           25,
           "G"
          ],
          [
           28,
           "G"
          ],
          [
           31,
           "G"
          ],
          [
           37,
           "G"
          ],
          [
           41,
           "G"
          ],
          [
           47,
           "G"
          ],
          [
           54,
           "G"
          ],
          [
           55,
           "G"
          ],
          [
           58,
           "G"
          ],
          [
           60,
           "G"
          ],
          [
           67,
           "G"
          ]
         ],
         "hovertemplate": "resname=%{customdata[1]}<br>x_1=%{x}<br>y_1=%{y}<br>z_1=%{z}<br>resid=%{customdata[0]}<extra></extra>",
         "legendgroup": "G",
         "marker": {
          "color": "#636efa",
          "size": 1,
          "symbol": "circle"
         },
         "mode": "markers",
         "name": "G",
         "scene": "scene",
         "showlegend": true,
         "type": "scatter3d",
         "x": {
          "bdata": "AAAA4Pn+FcAAAAAA000XwAAAAEBgZRfAAAAA4NAiF8AAAADAHgUXwAAAACCDwDnAAAAAIFh5PsAAAACAk1gywAAAAEC2cyjAAAAAQGJwOMAAAACAFM4wwAAAAMDI9h7AAAAAoO18478AAACgGAQsQAAAAMD1yDRAAAAAoJl5MEAAAAAAqhEyQAAAAAD+lCNAAAAAoJvE0D8AAACgGARAwA==",
          "dtype": "f8"
         },
         "y": {
          "bdata": "AAAAgD0KIUAAAACg7+ckQAAAAEA3iS1A/////yj8M0D///+/cog5QP///7+f2jxAAAAAAIFVNEAAAADgp4YxQAAAAOB6FCdAAAAAgML1BED/////U2MoQP////9VrjtAAAAAoHA9F0AAAAAgBkEgQAAAAEC2MyDAAQAAILKdD0AAAADgp8YhQAAAAGDneytAAAAAQGJQKUAAAACAwOo7QA==",
          "dtype": "f8"
         },
         "z": {
          "bdata": "AAAAgMI1IUAAAADAHgUsQAAAAIDClTFAAAAAAH+qMkAAAABADCIxQAAAAICTGCFAAQAA4KWbAsD///+/cigkwAAAAIBs5wfAAAAAAAIrBcAAAAAgWDkKQAEAACAv3QxA////HwTWKkAAAACgcD0DQAAAAMDIdjFAAAAAYI+CMUAAAABgZqYuQAAAAIDpJg9AAAAAwMohE0AAAADgehQHwA==",
          "dtype": "f8"
         }
        },
        {
         "customdata": [
          [
           6,
           "C"
          ],
          [
           7,
           "C"
          ],
          [
           9,
           "C"
          ],
          [
           12,
           "C"
          ],
          [
           18,
           "C"
          ],
          [
           22,
           "C"
          ],
          [
           24,
           "C"
          ],
          [
           27,
           "C"
          ],
          [
           29,
           "C"
          ],
          [
           32,
           "C"
          ],
          [
           33,
           "C"
          ],
          [
           34,
           "C"
          ],
          [
           35,
           "C"
          ],
          [
           39,
           "C"
          ],
          [
           42,
           "C"
          ],
          [
           43,
           "C"
          ],
          [
           48,
           "C"
          ],
          [
           50,
           "C"
          ],
          [
           52,
           "C"
          ],
          [
           53,
           "C"
          ],
          [
           56,
           "C"
          ],
          [
           59,
           "C"
          ],
          [
           65,
           "C"
          ],
          [
           68,
           "C"
          ]
         ],
         "hovertemplate": "resname=%{customdata[1]}<br>x_1=%{x}<br>y_1=%{y}<br>z_1=%{z}<br>resid=%{customdata[0]}<extra></extra>",
         "legendgroup": "C",
         "marker": {
          "color": "#EF553B",
          "size": 1,
          "symbol": "circle"
         },
         "mode": "markers",
         "name": "C",
         "scene": "scene",
         "showlegend": true,
         "type": "scatter3d",
         "x": {
          "bdata": "AQAAwHLoGMAAAAAgMQgiwP///5/x0ivAAAAA4CaRPMAAAACgcP0swAAAAEBgJSfAAAAAwEv3NMAAAADg0EI0wAAAAOAkxizAAAAAYGQ7C8AAAAAAqvHmvwAAAAArh+o//////9R48z8AAADAoUUQQAAAAICVAzNAAAAAgD2qNUAAAADAnW8xQAAAAGBkuxpAAAAAoO8nEUABAABACCwiQAAAAMBJLDFAAAAAwMxME0AAAAAgh7Y2wAAAAIDr8UDA",
          "dtype": "f8"
         },
         "y": {
          "bdata": "AAAA4M4XPkABAAAA14NCQP///79y6D5AAQAAgOkGOUAAAABgEoMtQAAAAOD5fg7AAAAAQLTI8D8AAADAnW8gQAAAAKCZ+TBA////v/ezO0D///8fMQg6QAAAAKBHQTZAAAAAwJ0vMUAAAADAnxoSQAAAAAApHCBAAAAAAIEVG0D///8fL90swAEAAGDjZSvAAAAA4CYx7L8AAACAaJH/P////1873yhAAAAAgJUDKUABAACgRVY6QAAAAKDxMj1A",
          "dtype": "f8"
         },
         "z": {
          "bdata": "AAAAgBTuK0ABAAAArJwmQAAAAACqsSBAAAAAIATWGkAAAACAwMobwAAAAOAkhhzAAAAAoG6SHcAAAAAgXI8MQP7//996FM4/AQAAAKwcGUAAAADAdn4nQAEAAOD76S5AAAAAAFRDMUAAAACAajwSQAAAAEAILBBAAAAAQLTIIUAAAACgbhI2QAAAACAGATdAAAAAIC/dNUAAAABgORQ1QAAAACCFqyZA/////9R4/T8AAADgIlshwAAAAIAW2QBA",
          "dtype": "f8"
         }
        },
        {
         "customdata": [
          [
           8,
           "A"
          ],
          [
           10,
           "A"
          ],
          [
           13,
           "A"
          ],
          [
           15,
           "A"
          ],
          [
           16,
           "A"
          ],
          [
           23,
           "A"
          ],
          [
           30,
           "A"
          ],
          [
           40,
           "A"
          ],
          [
           44,
           "A"
          ],
          [
           49,
           "A"
          ],
          [
           61,
           "A"
          ],
          [
           62,
           "A"
          ]
         ],
         "hovertemplate": "resname=%{customdata[1]}<br>x_1=%{x}<br>y_1=%{y}<br>z_1=%{z}<br>resid=%{customdata[0]}<extra></extra>",
         "legendgroup": "A",
         "marker": {
          "color": "#00cc96",
          "size": 1,
          "symbol": "circle"
         },
         "mode": "markers",
         "name": "A",
         "scene": "scene",
         "showlegend": true,
         "type": "scatter3d",
         "x": {
          "bdata": "AAAA4E8NIsABAABg40U2wAAAAKDtnD7A/v//H1rEO8AAAADgp6Y3wAAAAMAgcDDAAAAAQF46KcAAAACgxKAhQP///38WmTZAAAAAgL6fKEAAAADgTw0ZwAAAAOB61CbA",
          "dtype": "f8"
         },
         "y": {
          "bdata": "AAAAANONP0AAAADAIKBAQAAAAAD+NDZAAAAAYBCYM0AAAAAAAosyQAAAAMDz/fS/////HzFoOUAAAADgzncYQAAAAEA3iQpA////PwpXKMAAAABgOTQqQAAAACBcjy5A",
          "dtype": "f8"
         },
         "z": {
          "bdata": "AAAAQDNzIUAAAAAghWscQAAAAMDMzARAAAAAQInBHMAAAADAn9ojwAAAACAEliDAAAAAQIts+T8AAADgehQEQAAAAADTDSlAAAAAoEMrNkD///9/wvXQvwEAAKBFtgHA",
          "dtype": "f8"
         }
        },
        {
         "customdata": [
          [
           20,
           "U"
          ],
          [
           21,
           "U"
          ],
          [
           26,
           "U"
          ],
          [
           36,
           "U"
          ],
          [
           38,
           "U"
          ],
          [
           45,
           "U"
          ],
          [
           46,
           "U"
          ],
          [
           51,
           "U"
          ],
          [
           57,
           "U"
          ],
          [
           63,
           "U"
          ],
          [
           64,
           "U"
          ],
          [
           66,
           "U"
          ],
          [
           69,
           "U"
          ]
         ],
         "hovertemplate": "resname=%{customdata[1]}<br>x_1=%{x}<br>y_1=%{y}<br>z_1=%{z}<br>resid=%{customdata[0]}<extra></extra>",
         "legendgroup": "U",
         "marker": {
          "color": "#ab63fa",
          "size": 1,
          "symbol": "circle"
         },
         "mode": "markers",
         "name": "U",
         "scene": "scene",
         "showlegend": true,
         "type": "scatter3d",
         "x": {
          "bdata": "AAAAoBhEKMAAAAAg2zkqwAAAAKAY5DfAAAAAwCCw6j8AAABAjZfuPwAAAMBLFzZAAAAAACtHOEAAAABgEFgPQAEAACCynSxAAAAAgGr8LcAAAADASUwywAAAACAGITzAAAAAQGDVQMA=",
          "dtype": "f8"
         },
         "y": {
          "bdata": "AAAAQDeJG0AAAABAjZcAQAEAAACsnBJAAAAA4FG4KEAAAAAAKVwSQAAAAMB0k/q/////v/dTIsAAAABgObQXwAAAAGDneytAAQAAQLTINUAAAABA4Ro4QAEAAECLjDpAAAAAgJfOP0A=",
          "dtype": "f8"
         },
         "z": {
          "bdata": "AAAAIIXr5b8AAACA6SYIwAAAACCwcgJAAQAAoBrvLkAAAACgQ0siQAAAAOAkRixAAAAAoEW2KkAAAADA8305QAAAAAAtMhxAAAAAANPNEcAAAACAPYodwAAAACCDQBvAAAAAwPN9HEA=",
          "dtype": "f8"
         }
        }
       ],
       "layout": {
        "legend": {
         "title": {
          "text": "resname"
         },
         "tracegroupgap": 0
        },
        "scene": {
         "domain": {
          "x": [
           0,
           1
          ],
          "y": [
           0,
           1
          ]
         },
         "xaxis": {
          "title": {
           "text": "x_1"
          }
         },
         "yaxis": {
          "title": {
           "text": "y_1"
          }
         },
         "zaxis": {
          "title": {
           "text": "z_1"
          }
         }
        },
        "template": {
         "data": {
          "bar": [
           {
            "error_x": {
             "color": "#2a3f5f"
            },
            "error_y": {
             "color": "#2a3f5f"
            },
            "marker": {
             "line": {
              "color": "#E5ECF6",
              "width": 0.5
             },
             "pattern": {
              "fillmode": "overlay",
              "size": 10,
              "solidity": 0.2
             }
            },
            "type": "bar"
           }
          ],
          "barpolar": [
           {
            "marker": {
             "line": {
              "color": "#E5ECF6",
              "width": 0.5
             },
             "pattern": {
              "fillmode": "overlay",
              "size": 10,
              "solidity": 0.2
             }
            },
            "type": "barpolar"
           }
          ],
          "carpet": [
           {
            "aaxis": {
             "endlinecolor": "#2a3f5f",
             "gridcolor": "white",
             "linecolor": "white",
             "minorgridcolor": "white",
             "startlinecolor": "#2a3f5f"
            },
            "baxis": {
             "endlinecolor": "#2a3f5f",
             "gridcolor": "white",
             "linecolor": "white",
             "minorgridcolor": "white",
             "startlinecolor": "#2a3f5f"
            },
            "type": "carpet"
           }
          ],
          "choropleth": [
           {
            "colorbar": {
             "outlinewidth": 0,
             "ticks": ""
            },
            "type": "choropleth"
           }
          ],
          "contour": [
           {
            "colorbar": {
             "outlinewidth": 0,
             "ticks": ""
            },
            "colorscale": [
             [
              0,
              "#0d0887"
             ],
             [
              0.1111111111111111,
              "#46039f"
             ],
             [
              0.2222222222222222,
              "#7201a8"
             ],
             [
              0.3333333333333333,
              "#9c179e"
             ],
             [
              0.4444444444444444,
              "#bd3786"
             ],
             [
              0.5555555555555556,
              "#d8576b"
             ],
             [
              0.6666666666666666,
              "#ed7953"
             ],
             [
              0.7777777777777778,
              "#fb9f3a"
             ],
             [
              0.8888888888888888,
              "#fdca26"
             ],
             [
              1,
              "#f0f921"
             ]
            ],
            "type": "contour"
           }
          ],
          "contourcarpet": [
           {
            "colorbar": {
             "outlinewidth": 0,
             "ticks": ""
            },
            "type": "contourcarpet"
           }
          ],
          "heatmap": [
           {
            "colorbar": {
             "outlinewidth": 0,
             "ticks": ""
            },
            "colorscale": [
             [
              0,
              "#0d0887"
             ],
             [
              0.1111111111111111,
              "#46039f"
             ],
             [
              0.2222222222222222,
              "#7201a8"
             ],
             [
              0.3333333333333333,
              "#9c179e"
             ],
             [
              0.4444444444444444,
              "#bd3786"
             ],
             [
              0.5555555555555556,
              "#d8576b"
             ],
             [
              0.6666666666666666,
              "#ed7953"
             ],
             [
              0.7777777777777778,
              "#fb9f3a"
             ],
             [
              0.8888888888888888,
              "#fdca26"
             ],
             [
              1,
              "#f0f921"
             ]
            ],
            "type": "heatmap"
           }
          ],
          "histogram": [
           {
            "marker": {
             "pattern": {
              "fillmode": "overlay",
              "size": 10,
              "solidity": 0.2
             }
            },
            "type": "histogram"
           }
          ],
          "histogram2d": [
           {
            "colorbar": {
             "outlinewidth": 0,
             "ticks": ""
            },
            "colorscale": [
             [
              0,
              "#0d0887"
             ],
             [
              0.1111111111111111,
              "#46039f"
             ],
             [
              0.2222222222222222,
              "#7201a8"
             ],
             [
              0.3333333333333333,
              "#9c179e"
             ],
             [
              0.4444444444444444,
              "#bd3786"
             ],
             [
              0.5555555555555556,
              "#d8576b"
             ],
             [
              0.6666666666666666,
              "#ed7953"
             ],
             [
              0.7777777777777778,
              "#fb9f3a"
             ],
             [
              0.8888888888888888,
              "#fdca26"
             ],
             [
              1,
              "#f0f921"
             ]
            ],
            "type": "histogram2d"
           }
          ],
          "histogram2dcontour": [
           {
            "colorbar": {
             "outlinewidth": 0,
             "ticks": ""
            },
            "colorscale": [
             [
              0,
              "#0d0887"
             ],
             [
              0.1111111111111111,
              "#46039f"
             ],
             [
              0.2222222222222222,
              "#7201a8"
             ],
             [
              0.3333333333333333,
              "#9c179e"
             ],
             [
              0.4444444444444444,
              "#bd3786"
             ],
             [
              0.5555555555555556,
              "#d8576b"
             ],
             [
              0.6666666666666666,
              "#ed7953"
             ],
             [
              0.7777777777777778,
              "#fb9f3a"
             ],
             [
              0.8888888888888888,
              "#fdca26"
             ],
             [
              1,
              "#f0f921"
             ]
            ],
            "type": "histogram2dcontour"
           }
          ],
          "mesh3d": [
           {
            "colorbar": {
             "outlinewidth": 0,
             "ticks": ""
            },
            "type": "mesh3d"
           }
          ],
          "parcoords": [
           {
            "line": {
             "colorbar": {
              "outlinewidth": 0,
              "ticks": ""
             }
            },
            "type": "parcoords"
           }
          ],
          "pie": [
           {
            "automargin": true,
            "type": "pie"
           }
          ],
          "scatter": [
           {
            "fillpattern": {
             "fillmode": "overlay",
             "size": 10,
             "solidity": 0.2
            },
            "type": "scatter"
           }
          ],
          "scatter3d": [
           {
            "line": {
             "colorbar": {
              "outlinewidth": 0,
              "ticks": ""
             }
            },
            "marker": {
             "colorbar": {
              "outlinewidth": 0,
              "ticks": ""
             }
            },
            "type": "scatter3d"
           }
          ],
          "scattercarpet": [
           {
            "marker": {
             "colorbar": {
              "outlinewidth": 0,
              "ticks": ""
             }
            },
            "type": "scattercarpet"
           }
          ],
          "scattergeo": [
           {
            "marker": {
             "colorbar": {
              "outlinewidth": 0,
              "ticks": ""
             }
            },
            "type": "scattergeo"
           }
          ],
          "scattergl": [
           {
            "marker": {
             "colorbar": {
              "outlinewidth": 0,
              "ticks": ""
             }
            },
            "type": "scattergl"
           }
          ],
          "scattermap": [
           {
            "marker": {
             "colorbar": {
              "outlinewidth": 0,
              "ticks": ""
             }
            },
            "type": "scattermap"
           }
          ],
          "scattermapbox": [
           {
            "marker": {
             "colorbar": {
              "outlinewidth": 0,
              "ticks": ""
             }
            },
            "type": "scattermapbox"
           }
          ],
          "scatterpolar": [
           {
            "marker": {
             "colorbar": {
              "outlinewidth": 0,
              "ticks": ""
             }
            },
            "type": "scatterpolar"
           }
          ],
          "scatterpolargl": [
           {
            "marker": {
             "colorbar": {
              "outlinewidth": 0,
              "ticks": ""
             }
            },
            "type": "scatterpolargl"
           }
          ],
          "scatterternary": [
           {
            "marker": {
             "colorbar": {
              "outlinewidth": 0,
              "ticks": ""
             }
            },
            "type": "scatterternary"
           }
          ],
          "surface": [
           {
            "colorbar": {
             "outlinewidth": 0,
             "ticks": ""
            },
            "colorscale": [
             [
              0,
              "#0d0887"
             ],
             [
              0.1111111111111111,
              "#46039f"
             ],
             [
              0.2222222222222222,
              "#7201a8"
             ],
             [
              0.3333333333333333,
              "#9c179e"
             ],
             [
              0.4444444444444444,
              "#bd3786"
             ],
             [
              0.5555555555555556,
              "#d8576b"
             ],
             [
              0.6666666666666666,
              "#ed7953"
             ],
             [
              0.7777777777777778,
              "#fb9f3a"
             ],
             [
              0.8888888888888888,
              "#fdca26"
             ],
             [
              1,
              "#f0f921"
             ]
            ],
            "type": "surface"
           }
          ],
          "table": [
           {
            "cells": {
             "fill": {
              "color": "#EBF0F8"
             },
             "line": {
              "color": "white"
             }
            },
            "header": {
             "fill": {
              "color": "#C8D4E3"
             },
             "line": {
              "color": "white"
             }
            },
            "type": "table"
           }
          ]
         },
         "layout": {
          "annotationdefaults": {
           "arrowcolor": "#2a3f5f",
           "arrowhead": 0,
           "arrowwidth": 1
          },
          "autotypenumbers": "strict",
          "coloraxis": {
           "colorbar": {
            "outlinewidth": 0,
            "ticks": ""
           }
          },
          "colorscale": {
           "diverging": [
            [
             0,
             "#8e0152"
            ],
            [
             0.1,
             "#c51b7d"
            ],
            [
             0.2,
             "#de77ae"
            ],
            [
             0.3,
             "#f1b6da"
            ],
            [
             0.4,
             "#fde0ef"
            ],
            [
             0.5,
             "#f7f7f7"
            ],
            [
             0.6,
             "#e6f5d0"
            ],
            [
             0.7,
             "#b8e186"
            ],
            [
             0.8,
             "#7fbc41"
            ],
            [
             0.9,
             "#4d9221"
            ],
            [
             1,
             "#276419"
            ]
           ],
           "sequential": [
            [
             0,
             "#0d0887"
            ],
            [
             0.1111111111111111,
             "#46039f"
            ],
            [
             0.2222222222222222,
             "#7201a8"
            ],
            [
             0.3333333333333333,
             "#9c179e"
            ],
            [
             0.4444444444444444,
             "#bd3786"
            ],
            [
             0.5555555555555556,
             "#d8576b"
            ],
            [
             0.6666666666666666,
             "#ed7953"
            ],
            [
             0.7777777777777778,
             "#fb9f3a"
            ],
            [
             0.8888888888888888,
             "#fdca26"
            ],
            [
             1,
             "#f0f921"
            ]
           ],
           "sequentialminus": [
            [
             0,
             "#0d0887"
            ],
            [
             0.1111111111111111,
             "#46039f"
            ],
            [
             0.2222222222222222,
             "#7201a8"
            ],
            [
             0.3333333333333333,
             "#9c179e"
            ],
            [
             0.4444444444444444,
             "#bd3786"
            ],
            [
             0.5555555555555556,
             "#d8576b"
            ],
            [
             0.6666666666666666,
             "#ed7953"
            ],
            [
             0.7777777777777778,
             "#fb9f3a"
            ],
            [
             0.8888888888888888,
             "#fdca26"
            ],
            [
             1,
             "#f0f921"
            ]
           ]
          },
          "colorway": [
           "#636efa",
           "#EF553B",
           "#00cc96",
           "#ab63fa",
           "#FFA15A",
           "#19d3f3",
           "#FF6692",
           "#B6E880",
           "#FF97FF",
           "#FECB52"
          ],
          "font": {
           "color": "#2a3f5f"
          },
          "geo": {
           "bgcolor": "white",
           "lakecolor": "white",
           "landcolor": "#E5ECF6",
           "showlakes": true,
           "showland": true,
           "subunitcolor": "white"
          },
          "hoverlabel": {
           "align": "left"
          },
          "hovermode": "closest",
          "mapbox": {
           "style": "light"
          },
          "paper_bgcolor": "white",
          "plot_bgcolor": "#E5ECF6",
          "polar": {
           "angularaxis": {
            "gridcolor": "white",
            "linecolor": "white",
            "ticks": ""
           },
           "bgcolor": "#E5ECF6",
           "radialaxis": {
            "gridcolor": "white",
            "linecolor": "white",
            "ticks": ""
           }
          },
          "scene": {
           "xaxis": {
            "backgroundcolor": "#E5ECF6",
            "gridcolor": "white",
            "gridwidth": 2,
            "linecolor": "white",
            "showbackground": true,
            "ticks": "",
            "zerolinecolor": "white"
           },
           "yaxis": {
            "backgroundcolor": "#E5ECF6",
            "gridcolor": "white",
            "gridwidth": 2,
            "linecolor": "white",
            "showbackground": true,
            "ticks": "",
            "zerolinecolor": "white"
           },
           "zaxis": {
            "backgroundcolor": "#E5ECF6",
            "gridcolor": "white",
            "gridwidth": 2,
            "linecolor": "white",
            "showbackground": true,
            "ticks": "",
            "zerolinecolor": "white"
           }
          },
          "shapedefaults": {
           "line": {
            "color": "#2a3f5f"
           }
          },
          "ternary": {
           "aaxis": {
            "gridcolor": "white",
            "linecolor": "white",
            "ticks": ""
           },
           "baxis": {
            "gridcolor": "white",
            "linecolor": "white",
            "ticks": ""
           },
           "bgcolor": "#E5ECF6",
           "caxis": {
            "gridcolor": "white",
            "linecolor": "white",
            "ticks": ""
           }
          },
          "title": {
           "x": 0.05
          },
          "xaxis": {
           "automargin": true,
           "gridcolor": "white",
           "linecolor": "white",
           "ticks": "",
           "title": {
            "standoff": 15
           },
           "zerolinecolor": "white",
           "zerolinewidth": 2
          },
          "yaxis": {
           "automargin": true,
           "gridcolor": "white",
           "linecolor": "white",
           "ticks": "",
           "title": {
            "standoff": 15
           },
           "zerolinecolor": "white",
           "zerolinewidth": 2
          }
         }
        },
        "title": {
         "text": "RNA Structure Visualization: R1107"
        }
       }
      }
     },
     "metadata": {},
     "output_type": "display_data"
    }
   ],
   "source": [
    "import plotly.express as px\n",
    "\n",
    "def visualize_structure_plotly(csv_path, idx):\n",
    "    df = pd.read_csv(csv_path)\n",
    "    structure_id = df['ID'].iloc[idx].split('_')[0]\n",
    "    structure_mask = df['ID'].str.startswith(structure_id)\n",
    "    padding_mask = (df['x_1'] != -1e18) & (df['y_1'] != -1e18) & (df['z_1'] != -1e18)\n",
    "    df_filtered = df[structure_mask & padding_mask]\n",
    "    fig = px.scatter_3d(df_filtered, \n",
    "                        x='x_1', y='y_1', z='z_1',\n",
    "                        color='resname',\n",
    "                        hover_data=['resid', 'resname'],\n",
    "                        title=f'RNA Structure Visualization: {structure_id}')\n",
    "    \n",
    "    fig.update_traces(marker=dict(size=1))\n",
    "    fig.show()\n",
    "\n",
    "visualize_structure_plotly('data/validation_labels.csv', 1)"
   ]
  },
  {
   "cell_type": "code",
   "execution_count": 24,
   "metadata": {},
   "outputs": [
    {
     "data": {
      "image/png": "[encoded data removed]",
      "text/plain": [
       "<IPython.core.display.Image object>"
      ]
     },
     "execution_count": 24,
     "metadata": {},
     "output_type": "execute_result"
    }
   ],
   "source": [
    "from pymol import cmd\n",
    "\n",
    "def visualize_structure_pymol(csv_path, idx):\n",
    "    df = pd.read_csv(csv_path)\n",
    "    structure_id = df['ID'].iloc[idx].split('_')[0]\n",
    "    structure_mask = df['ID'].str.startswith(structure_id)\n",
    "    padding_mask = (df['x_1'] != -1e18) & (df['y_1'] != -1e18) & (df['z_1'] != -1e18)\n",
    "    df_filtered = df[structure_mask & padding_mask].sort_values('resid')\n",
    "    \n",
    "    cmd.delete('all')\n",
    "    \n",
    "    # creating pseudoatoms & bonds\n",
    "    prev_name = None\n",
    "    for _, row in df_filtered.iterrows():\n",
    "        pos = [float(row['x_1']), float(row['y_1']), float(row['z_1'])]\n",
    "        current_name = f\"{row['resname']}{row['resid']}\"\n",
    "        \n",
    "        cmd.pseudoatom('rna',\n",
    "                      pos=str(pos),\n",
    "                      name=current_name,\n",
    "                      resn=row['resname'],\n",
    "                      resi=str(row['resid']))\n",
    "        \n",
    "        # create bond to previous residue\n",
    "        if prev_name is not None:\n",
    "            cmd.bond(f'rna and name {prev_name}', f'rna and name {current_name}')\n",
    "        \n",
    "        prev_name = current_name\n",
    "    \n",
    "    # style\n",
    "    cmd.show('ribbon')\n",
    "    cmd.hide('sticks')\n",
    "    cmd.set('ribbon_width', 20)\n",
    "    cmd.spectrum('count', 'blue_red', 'rna')\n",
    "    cmd.set('sphere_scale', 20)\n",
    "    cmd.orient()\n",
    "    cmd.set('ray_shadows', 0)\n",
    "    \n",
    "    return cmd.ipython_image()\n",
    "\n",
    "visualize_structure_pymol('data/validation_labels.csv', 1)"
   ]
  },
  {
   "cell_type": "markdown",
   "metadata": {},
   "source": [
    "## Embedding exploration\n",
    "- Evo2\n",
    "- Others?"
   ]
  },
  {
   "cell_type": "code",
   "execution_count": 28,
   "metadata": {},
   "outputs": [
    {
     "name": "stdout",
     "output_type": "stream",
     "text": [
      "Getting embeddings for training sequences...\n"
     ]
    },
    {
     "data": {
      "application/vnd.jupyter.widget-view+json": {
       "model_id": "334c0686b9f6406799a11a9c92245853",
       "version_major": 2,
       "version_minor": 0
      },
      "text/plain": [
       "  0%|          | 0/27 [00:00<?, ?it/s]"
      ]
     },
     "metadata": {},
     "output_type": "display_data"
    },
    {
     "name": "stdout",
     "output_type": "stream",
     "text": [
      "Saving embeddings...\n"
     ]
    }
   ],
   "source": [
    "import requests\n",
    "import io\n",
    "import base64\n",
    "import zipfile\n",
    "import json\n",
    "import os\n",
    "from tqdm.auto import tqdm\n",
    "import pickle\n",
    "import umap\n",
    "from collections import defaultdict\n",
    "import constants\n",
    "\n",
    "URL = os.getenv(\"URL\", \"https://health.api.nvidia.com/v1/biology/arc/evo2-40b/forward\")\n",
    "layer_name = 'blocks.28.mlp.l3'\n",
    "\n",
    "def get_embedding(sequence):\n",
    "    r = requests.post(\n",
    "        url=URL,\n",
    "        headers={\"Authorization\": f\"Bearer {constants.NVIDIA_API}\"},\n",
    "        json={\"sequence\": sequence, \"output_layers\": [layer_name]},\n",
    "    )\n",
    "    content_type = r.headers.get(\"Content-Type\", \"\")\n",
    "    if \"application/json\" in content_type:\n",
    "        response_json = r.json()\n",
    "        b64_npz = response_json[\"data\"]\n",
    "    elif \"application/zip\" in content_type:\n",
    "        zip_data = io.BytesIO(r.content)\n",
    "        with zipfile.ZipFile(zip_data, \"r\") as zf:\n",
    "            response_filename = zf.namelist()[0]\n",
    "            with zf.open(response_filename) as f:\n",
    "                response_text = f.read().decode(\"utf-8\")\n",
    "        response_json = json.loads(response_text)\n",
    "        b64_npz = response_json[\"data\"]\n",
    "    npz_bytes = io.BytesIO(base64.b64decode(b64_npz))\n",
    "    npz_file = np.load(npz_bytes)\n",
    "    key = npz_file.files[0]\n",
    "    embedding = npz_file[key]  # shape: (1, seq_len, 8192)\n",
    "    return embedding.squeeze(0)  # shape: (16, 8192)\n",
    "\n",
    "def get_embeddings_for_sequences(sequences, target_ids, batch_size=32):\n",
    "    \"\"\"Get Evo2 embeddings for RNA sequences using NVIDIA's API\n",
    "    \n",
    "    Args:\n",
    "        sequences (list): List of RNA sequences\n",
    "        target_ids (list): List of corresponding target IDs\n",
    "        batch_size (int): Number of sequences to process at once\n",
    "        \n",
    "    Returns:\n",
    "        dict: Mapping of target_id to embedding\n",
    "    \"\"\"\n",
    "    embeddings_dict = {}\n",
    "    full_embeddings_dict = {}\n",
    "    \n",
    "    # process sequences in batches\n",
    "    for i in tqdm(range(0, len(sequences), batch_size)):\n",
    "        batch_seqs = sequences[i:i + batch_size]\n",
    "        batch_ids = target_ids[i:i + batch_size]\n",
    "        \n",
    "        for seq, target_id in zip(batch_seqs, batch_ids):\n",
    "            try:\n",
    "                # get embedding for sequence\n",
    "                embedding = get_embedding(seq)\n",
    "                full_embeddings_dict[target_id] = embedding\n",
    "                # average across sequence length to get fixed-size representation\n",
    "                seq_embedding = np.mean(embedding, axis=0)  # shape: (8192,)\n",
    "                embeddings_dict[target_id] = seq_embedding\n",
    "            except Exception as e:\n",
    "                print(f\"Error processing sequence {target_id}: {str(e)}\")\n",
    "                continue\n",
    "            \n",
    "    return embeddings_dict, full_embeddings_dict\n",
    "\n",
    "train_sequences = pd.read_csv(\"data/train_sequences.csv\")\n",
    "\n",
    "print(\"Getting embeddings for training sequences...\")\n",
    "embeddings_dict , full_embeddings_dict = get_embeddings_for_sequences(\n",
    "    train_sequences['sequence'].tolist(),\n",
    "    train_sequences['target_id'].tolist()\n",
    ")\n",
    "\n",
    "print(\"Saving embeddings...\")\n",
    "with open('data/nvidia_evo2_embeddings.pkl', 'wb') as f:\n",
    "    pickle.dump(embeddings_dict, f)\n",
    "with open('data/nvidia_evo2_full_embeddings.pkl', 'wb') as f:\n",
    "    pickle.dump(full_embeddings_dict, f)"
   ]
  },
  {
   "cell_type": "code",
   "execution_count": 30,
   "metadata": {},
   "outputs": [
    {
     "name": "stdout",
     "output_type": "stream",
     "text": [
      "Loading embeddings...\n",
      "\n",
      "First 3 items in embeddings dict:\n",
      "\n",
      "Target ID: 1SCL_A\n",
      "Embedding shape: (8192,)\n",
      "Embedding mean: 0.0000\n",
      "Embedding std: 0.0000\n",
      "First 5 values: [ 2.52401931e-12  1.91417763e-12  2.14069375e-12  2.81815950e-12\n",
      " -2.37557100e-13]\n",
      "\n",
      "Target ID: 1RNK_A\n",
      "Embedding shape: (8192,)\n",
      "Embedding mean: 0.0000\n",
      "Embedding std: 0.0000\n",
      "First 5 values: [ 1.36430001e-12  1.03394540e-12  1.15760587e-12  1.52130269e-12\n",
      " -1.26508485e-13]\n",
      "\n",
      "Target ID: 1RHT_A\n",
      "Embedding shape: (8192,)\n",
      "Embedding mean: 0.0000\n",
      "Embedding std: 0.0000\n",
      "First 5 values: [ 2.50993670e-12  1.90173803e-12  2.13024043e-12  2.80036179e-12\n",
      " -2.33067616e-13]\n",
      "\n",
      "Overall statistics:\n",
      "Number of sequences embedded: 844\n",
      "Embedding dimension: (8192,)\n",
      "\n",
      "Checking for anomalies...\n",
      "All embeddings have consistent length ✓\n",
      "No NaN values found ✓\n"
     ]
    }
   ],
   "source": [
    "print(\"Loading embeddings...\")\n",
    "with open('data/nvidia_evo2_embeddings.pkl', 'rb') as f:\n",
    "    embeddings_dict = pickle.load(f)\n",
    "\n",
    "print(\"\\nFirst 3 items in embeddings dict:\")\n",
    "for i, (target_id, embedding) in enumerate(list(embeddings_dict.items())[:3]):\n",
    "    print(f\"\\nTarget ID: {target_id}\")\n",
    "    print(f\"Embedding shape: {embedding.shape}\")\n",
    "    print(f\"Embedding mean: {embedding.mean():.4f}\")\n",
    "    print(f\"Embedding std: {embedding.std():.4f}\")\n",
    "    print(f\"First 5 values: {embedding[:5]}\")\n",
    "\n",
    "print(\"\\nOverall statistics:\")\n",
    "print(f\"Number of sequences embedded: {len(embeddings_dict)}\")\n",
    "print(f\"Embedding dimension: {next(iter(embeddings_dict.values())).shape}\")\n",
    "\n",
    "print(\"\\nChecking for anomalies...\")\n",
    "embedding_lengths = [len(emb) for emb in embeddings_dict.values()]\n",
    "if len(set(embedding_lengths)) > 1:\n",
    "    print(\"WARNING: Not all embeddings have the same length!\")\n",
    "    print(f\"Unique lengths found: {set(embedding_lengths)}\")\n",
    "else:\n",
    "    print(\"All embeddings have consistent length ✓\")\n",
    "\n",
    "nan_count = sum(np.isnan(emb).any() for emb in embeddings_dict.values())\n",
    "if nan_count > 0:\n",
    "    print(f\"WARNING: Found {nan_count} embeddings with NaN values!\")\n",
    "else:\n",
    "    print(\"No NaN values found ✓\")"
   ]
  },
  {
   "cell_type": "code",
   "execution_count": null,
   "metadata": {},
   "outputs": [],
   "source": [
    "# get evo2 embedding for each of train sequences ✅\n",
    "\n",
    "# test if evo2 UMAP can put similar-looking RNAs closer than dissimilar-looking RNAs\n",
    "\n",
    "# potentially use evo2 to test if it can differentiate between RFDiffusion sequences and PDB real sequences? -- use UMAP?"
   ]
  },
  {
   "cell_type": "code",
   "execution_count": null,
   "metadata": {},
   "outputs": [],
   "source": []
  }
 ],
 "metadata": {
  "kernelspec": {
   "display_name": "immunoliugy",
   "language": "python",
   "name": "python3"
  },
  "language_info": {
   "codemirror_mode": {
    "name": "ipython",
    "version": 3
   },
   "file_extension": ".py",
   "mimetype": "text/x-python",
   "name": "python",
   "nbconvert_exporter": "python",
   "pygments_lexer": "ipython3",
   "version": "3.12.2"
  }
 },
 "nbformat": 4,
 "nbformat_minor": 2
}
