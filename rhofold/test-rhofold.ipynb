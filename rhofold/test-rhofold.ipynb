{
 "cells": [
  {
   "cell_type": "code",
   "execution_count": 1,
   "metadata": {},
   "outputs": [
    {
     "name": "stderr",
     "output_type": "stream",
     "text": [
      "Warning: importing 'simtk.openmm' is deprecated.  Import 'openmm' instead.\n"
     ]
    }
   ],
   "source": [
    "import logging\n",
    "import os\n",
    "import sys\n",
    "\n",
    "import numpy as np\n",
    "import torch\n",
    "\n",
    "from rhofold.data.balstn import BLASTN\n",
    "from rhofold.rhofold import RhoFold\n",
    "from rhofold.config import rhofold_config\n",
    "from rhofold.utils import get_device, save_ss2ct, timing\n",
    "from rhofold.relax.relax import AmberRelaxation\n",
    "from rhofold.utils.alphabet import get_features\n",
    "\n",
    "\n",
    "@torch.no_grad()\n",
    "def main(ckpt=\"./pretrained/RhoFold_pretrained.pt\"):\n",
    "    model = RhoFold(rhofold_config)\n",
    "    model.load_state_dict(\n",
    "        torch.load(ckpt, map_location=torch.device(\"cpu\"))[\"model\"], strict=False\n",
    "    )\n",
    "    model.eval()\n",
    "\n",
    "    return model"
   ]
  },
  {
   "cell_type": "code",
   "execution_count": 10,
   "metadata": {},
   "outputs": [
    {
     "name": "stdout",
     "output_type": "stream",
     "text": [
      "  target_id                            sequence temporal_cutoff  \\\n",
      "0    1SCL_A       GGGUGCUCAGUACGAGAGGAACCGCACCC      1995-01-26   \n",
      "1    1RNK_A  GGCGCAGUGGGCUAGCGCCACUCAAAAGGCCCAU      1995-02-27   \n",
      "2    1RHT_A            GGGACUGACGAUCACGCAGUCUAU      1995-06-03   \n",
      "3    1HLX_A                GGGAUAACUUCGGUUGUCCC      1995-09-15   \n",
      "4    1HMH_E  GGCGACCCUGAUGAGGCCGAAAGGCCGAAACCGU      1995-12-07   \n",
      "\n",
      "                                         description  \\\n",
      "0               THE SARCIN-RICIN LOOP, A MODULAR RNA   \n",
      "1  THE STRUCTURE OF AN RNA PSEUDOKNOT THAT CAUSES...   \n",
      "2  24-MER RNA HAIRPIN COAT PROTEIN BINDING SITE F...   \n",
      "3  P1 HELIX NUCLEIC ACIDS (DNA/RNA) RIBONUCLEIC ACID   \n",
      "4  THREE-DIMENSIONAL STRUCTURE OF A HAMMERHEAD RI...   \n",
      "\n",
      "                                       all_sequences  \n",
      "0  >1SCL_1|Chain A|RNA SARCIN-RICIN LOOP|Rattus n...  \n",
      "1  >1RNK_1|Chain A|RNA PSEUDOKNOT|null\\nGGCGCAGUG...  \n",
      "2  >1RHT_1|Chain A|RNA (5'-R(P*GP*GP*GP*AP*CP*UP*...  \n",
      "3  >1HLX_1|Chain A|RNA (5'-R(*GP*GP*GP*AP*UP*AP*A...  \n",
      "4  >1HMH_1|Chains A, C, E|HAMMERHEAD RIBOZYME-RNA...  \n",
      "2024-12-18\n",
      "/srv/mingyang/dev/personal/rna-fold/data/MSA/1SCL_A.MSA.fasta\n"
     ]
    }
   ],
   "source": [
    "data_folder = \"/srv/mingyang/dev/personal/rna-fold/data/\"\n",
    "input_csv = data_folder + \"train_sequences.csv\"\n",
    "# read the csv file\n",
    "import pandas as pd\n",
    "df = pd.read_csv(input_csv)\n",
    "print(df.head())\n",
    "# compute largest temp cut_off\n",
    "temp_cut_off = df[\"temporal_cutoff\"].max()\n",
    "print(temp_cut_off)\n",
    "\n",
    "def id_to_msa_file(id):\n",
    "    file = data_folder + \"MSA/\" + f'{id}.MSA.fasta'\n",
    "    return file\n",
    "\n",
    "id0 = df.iloc[0][\"target_id\"]\n",
    "msa_file = id_to_msa_file(id0)\n",
    "print(msa_file)\n",
    "\n"
   ]
  },
  {
   "cell_type": "code",
   "execution_count": null,
   "metadata": {},
   "outputs": [
    {
     "name": "stdout",
     "output_type": "stream",
     "text": [
      "GGGUGCUCAGUACGAGAGGAACCGCACCC\n",
      "torch.Size([1, 128, 29])\n",
      "torch.Size([1, 29])\n"
     ]
    }
   ],
   "source": [
    "fasta_path = f\"{data_folder}/MSA/1SCL_A.fasta\"  # This should contain just your query sequence\n",
    "msa_path = f\"{data_folder}/MSA/1SCL_A.MSA.fasta\"  # This is your MSA file\n",
    "\n",
    "# Get features (optionally specify msa_depth, default is 128)\n",
    "features = get_features(\n",
    "    fas_fpath=fasta_path,\n",
    "    msa_fpath=msa_path,\n",
    "    msa_depth=128,  # You can adjust this if you want to use more/fewer sequences from the MSA\n",
    ")\n",
    "print(features['seq'])\n",
    "print(features['tokens'].shape)\n",
    "print(features['rna_fm_tokens'].shape)\n",
    "\n",
    "device = \"cuda\"\n",
    "model = main().to(device)\n",
    "outputs = model(tokens=features['tokens'].to(device),\n",
    "                rna_fm_tokens=features['rna_fm_tokens'].to(device),\n",
    "                seq=features['seq'],\n",
    "                )\n",
    "\n"
   ]
  },
  {
   "cell_type": "code",
   "execution_count": null,
   "metadata": {},
   "outputs": [],
   "source": [
    "def kabsch_align(P, Q):\n",
    "    # P, Q: [L, 3]\n",
    "    P_mean = P.mean(dim=0)\n",
    "    Q_mean = Q.mean(dim=0)\n",
    "    P_centered = P - P_mean\n",
    "    Q_centered = Q - Q_mean\n",
    "\n",
    "    H = P_centered.T @ Q_centered\n",
    "    U, S, Vt = torch.svd(H)\n",
    "    R = Vt @ U.T\n",
    "    if torch.det(R) < 0:\n",
    "        Vt[-1, :] *= -1\n",
    "        R = Vt @ U.T\n",
    "    P_aligned = P_centered @ R\n",
    "    return P_aligned, Q_centered\n",
    "\n",
    "\n",
    "def tm_score(P, Q):\n",
    "    # P: predicted coords, Q: true coords, both [L, 3]\n",
    "    L = P.shape[0]\n",
    "    d0 = 1.24 * ((L - 15) ** (1 / 3)) - 1.8\n",
    "    d0 = max(d0, 0.5)  # clamp minimum\n",
    "\n",
    "    P_aligned, Q_centered = kabsch_align(P, Q)\n",
    "    dist = torch.norm(P_aligned - Q_centered, dim=1)\n",
    "    score = (1 / (1 + (dist / d0) ** 2)).mean()\n",
    "    return score.item()"
   ]
  },
  {
   "cell_type": "code",
   "execution_count": 35,
   "metadata": {},
   "outputs": [
    {
     "name": "stdout",
     "output_type": "stream",
     "text": [
      "1 1\n",
      "torch.Size([1, 29, 3])\n"
     ]
    }
   ],
   "source": [
    "g = outputs[0][\"cords_c1'\"]\n",
    "f = outputs[1][\"cords_c1'\"]\n",
    "\n",
    "print(len(f), len(g))\n",
    "print(f[0].shape)\n",
    "\n",
    "\n",
    "f = outputs[1][\"single\"]"
   ]
  },
  {
   "cell_type": "code",
   "execution_count": 27,
   "metadata": {},
   "outputs": [
    {
     "name": "stdout",
     "output_type": "stream",
     "text": [
      "dict_keys(['frames', 'unnormalized_angles', 'angles', 'single', 'cord_tns_pred', \"cords_c1'\", 'plddt', 'ss', 'p', 'c4_', 'n'])\n",
      "frames <class 'torch.Tensor'>\n",
      "torch.Size([8, 1, 29, 7])\n",
      "unnormalized_angles <class 'torch.Tensor'>\n",
      "torch.Size([8, 1, 29, 6, 2])\n",
      "angles <class 'torch.Tensor'>\n",
      "torch.Size([8, 1, 29, 6, 2])\n",
      "single <class 'torch.Tensor'>\n",
      "torch.Size([8, 1, 29, 384])\n",
      "cord_tns_pred <class 'list'>\n",
      "cords_c1' <class 'list'>\n",
      "plddt <class 'tuple'>\n",
      "ss <class 'torch.Tensor'>\n",
      "torch.Size([1, 1, 29, 29])\n",
      "p <class 'torch.Tensor'>\n",
      "torch.Size([1, 40, 29, 29])\n",
      "c4_ <class 'torch.Tensor'>\n",
      "torch.Size([1, 40, 29, 29])\n",
      "n <class 'torch.Tensor'>\n",
      "torch.Size([1, 40, 29, 29])\n"
     ]
    }
   ],
   "source": [
    "print(outputs[0].keys())\n",
    "for k, elt in outputs[0].items():\n",
    "    print(k, type(elt))\n",
    "    if isinstance(elt, torch.Tensor):\n",
    "        print(elt.shape)\n",
    "\n",
    "\n",
    "\n",
    "\n"
   ]
  },
  {
   "cell_type": "code",
   "execution_count": 3,
   "metadata": {},
   "outputs": [],
   "source": [
    "import logging\n",
    "import os\n",
    "import sys\n",
    "\n",
    "import numpy as np\n",
    "import torch\n",
    "\n",
    "from rhofold.data.balstn import BLASTN\n",
    "from rhofold.rhofold import RhoFold\n",
    "from rhofold.config import rhofold_config\n",
    "from rhofold.utils import get_device, save_ss2ct, timing\n",
    "from rhofold.relax.relax import AmberRelaxation\n",
    "from rhofold.utils.alphabet import get_features\n",
    "\n",
    "@torch.no_grad()\n",
    "def main(ckpt='./pretrained/RhoFold_pretrained.pt'):\n",
    "    model = RhoFold(rhofold_config)\n",
    "    model.load_state_dict(torch.load(ckpt, map_location=torch.device('cpu'))['model'], strict=False)\n",
    "    model.eval()\n",
    "\n",
    "    return model\n",
    "\n",
    "def inference(seq_id='165d_B'):\n",
    "    device = get_device('cpu')\n",
    "    model = main().to(device)\n",
    "    print(\"Number of params:\", sum(p.numel() for p in model.parameters()))\n",
    "    input_fas = f'../data/RNA3D_DATA/seq/{seq_id}.seq'\n",
    "    input_a3m = f'../data/RNA3D_DATA/rMSA/{seq_id}.a3m'\n",
    "    data_dict = get_features(input_fas, input_a3m)\n",
    "    embedding = seq_id_to_embedding(seq_id)\n",
    "\n",
    "    outputs = model(tokens=data_dict['tokens'].to(device),\n",
    "                    rna_fm_tokens=data_dict['rna_fm_tokens'].to(device),\n",
    "                    seq=data_dict['seq'],\n",
    "                    evo2_fea=embedding,\n",
    "                    )\n",
    "\n",
    "    output = outputs[-1]\n",
    "\n",
    "    unrelaxed_model = f'tmp/unrelaxed_model.pdb'\n",
    "\n",
    "    node_cords_pred = output['cord_tns_pred'][-1].squeeze(0)\n",
    "    model.structure_module.converter.export_pdb_file(data_dict['seq'],\n",
    "                                                        node_cords_pred.data.cpu().numpy(),\n",
    "                                                        path=unrelaxed_model, chain_id=None,\n",
    "                                                        confidence=output['plddt'][0].data.cpu().numpy())"
   ]
  },
  {
   "cell_type": "code",
   "execution_count": 4,
   "metadata": {},
   "outputs": [
    {
     "name": "stdout",
     "output_type": "stream",
     "text": [
      "Number of params: 130059855\n"
     ]
    },
    {
     "ename": "FileNotFoundError",
     "evalue": "[Errno 2] No such file or directory: '../data/RNA3D_DATA/seq/165d_B.seq'",
     "output_type": "error",
     "traceback": [
      "\u001b[0;31m---------------------------------------------------------------------------\u001b[0m",
      "\u001b[0;31mFileNotFoundError\u001b[0m                         Traceback (most recent call last)",
      "Cell \u001b[0;32mIn[4], line 1\u001b[0m\n\u001b[0;32m----> 1\u001b[0m \u001b[43minference\u001b[49m\u001b[43m(\u001b[49m\u001b[43m)\u001b[49m\n",
      "Cell \u001b[0;32mIn[3], line 29\u001b[0m, in \u001b[0;36minference\u001b[0;34m(seq_id)\u001b[0m\n\u001b[1;32m     27\u001b[0m input_fas \u001b[38;5;241m=\u001b[39m \u001b[38;5;124mf\u001b[39m\u001b[38;5;124m'\u001b[39m\u001b[38;5;124m../data/RNA3D_DATA/seq/\u001b[39m\u001b[38;5;132;01m{\u001b[39;00mseq_id\u001b[38;5;132;01m}\u001b[39;00m\u001b[38;5;124m.seq\u001b[39m\u001b[38;5;124m'\u001b[39m\n\u001b[1;32m     28\u001b[0m input_a3m \u001b[38;5;241m=\u001b[39m \u001b[38;5;124mf\u001b[39m\u001b[38;5;124m'\u001b[39m\u001b[38;5;124m../data/RNA3D_DATA/rMSA/\u001b[39m\u001b[38;5;132;01m{\u001b[39;00mseq_id\u001b[38;5;132;01m}\u001b[39;00m\u001b[38;5;124m.a3m\u001b[39m\u001b[38;5;124m'\u001b[39m\n\u001b[0;32m---> 29\u001b[0m data_dict \u001b[38;5;241m=\u001b[39m \u001b[43mget_features\u001b[49m\u001b[43m(\u001b[49m\u001b[43minput_fas\u001b[49m\u001b[43m,\u001b[49m\u001b[43m \u001b[49m\u001b[43minput_a3m\u001b[49m\u001b[43m)\u001b[49m\n\u001b[1;32m     30\u001b[0m embedding \u001b[38;5;241m=\u001b[39m seq_id_to_embedding(seq_id)\n\u001b[1;32m     32\u001b[0m outputs \u001b[38;5;241m=\u001b[39m model(tokens\u001b[38;5;241m=\u001b[39mdata_dict[\u001b[38;5;124m'\u001b[39m\u001b[38;5;124mtokens\u001b[39m\u001b[38;5;124m'\u001b[39m]\u001b[38;5;241m.\u001b[39mto(device),\n\u001b[1;32m     33\u001b[0m                 rna_fm_tokens\u001b[38;5;241m=\u001b[39mdata_dict[\u001b[38;5;124m'\u001b[39m\u001b[38;5;124mrna_fm_tokens\u001b[39m\u001b[38;5;124m'\u001b[39m]\u001b[38;5;241m.\u001b[39mto(device),\n\u001b[1;32m     34\u001b[0m                 seq\u001b[38;5;241m=\u001b[39mdata_dict[\u001b[38;5;124m'\u001b[39m\u001b[38;5;124mseq\u001b[39m\u001b[38;5;124m'\u001b[39m],\n\u001b[1;32m     35\u001b[0m                 evo2_fea\u001b[38;5;241m=\u001b[39membedding,\n\u001b[1;32m     36\u001b[0m                 )\n",
      "File \u001b[0;32m/srv/mingyang/dev/personal/rna-fold/rhofold/rhofold/utils/alphabet.py:123\u001b[0m, in \u001b[0;36mget_features\u001b[0;34m(fas_fpath, msa_fpath, msa_depth)\u001b[0m\n\u001b[1;32m    118\u001b[0m \u001b[38;5;28;01mdef\u001b[39;00m \u001b[38;5;21mget_features\u001b[39m(fas_fpath, msa_fpath, msa_depth \u001b[38;5;241m=\u001b[39m \u001b[38;5;241m128\u001b[39m):\n\u001b[1;32m    119\u001b[0m \u001b[38;5;250m    \u001b[39m\u001b[38;5;124;03m'''\u001b[39;00m\n\u001b[1;32m    120\u001b[0m \u001b[38;5;124;03m    Get features from MSA\u001b[39;00m\n\u001b[1;32m    121\u001b[0m \u001b[38;5;124;03m    '''\u001b[39;00m\n\u001b[0;32m--> 123\u001b[0m     seq \u001b[38;5;241m=\u001b[39m \u001b[43mread_fas\u001b[49m\u001b[43m(\u001b[49m\u001b[43mfas_fpath\u001b[49m\u001b[43m)\u001b[49m[\u001b[38;5;241m0\u001b[39m][\u001b[38;5;241m1\u001b[39m]\n\u001b[1;32m    125\u001b[0m     msa_tokens \u001b[38;5;241m=\u001b[39m get_msa_feature(msa_path\u001b[38;5;241m=\u001b[39mmsa_fpath, msa_depth\u001b[38;5;241m=\u001b[39mmsa_depth)\n\u001b[1;32m    127\u001b[0m     rna_fm_tokens \u001b[38;5;241m=\u001b[39m get_rna_fm_token(fas_fpath)\n",
      "File \u001b[0;32m/srv/mingyang/dev/personal/rna-fold/rhofold/rhofold/utils/alphabet.py:103\u001b[0m, in \u001b[0;36mread_fas\u001b[0;34m(filename)\u001b[0m\n\u001b[1;32m    100\u001b[0m \u001b[38;5;28;01mdef\u001b[39;00m \u001b[38;5;21mread_fas\u001b[39m(filename: \u001b[38;5;28mstr\u001b[39m):\n\u001b[1;32m    101\u001b[0m \u001b[38;5;250m    \u001b[39m\u001b[38;5;124;03m\"\"\" Reads the first nseq sequences from an MSA file, automatically removes insertions.\"\"\"\u001b[39;00m\n\u001b[1;32m    102\u001b[0m     \u001b[38;5;28;01mreturn\u001b[39;00m [(record\u001b[38;5;241m.\u001b[39mdescription,\n\u001b[0;32m--> 103\u001b[0m              remove_insertions(\u001b[38;5;28mstr\u001b[39m(record\u001b[38;5;241m.\u001b[39mseq)\u001b[38;5;241m.\u001b[39mreplace(\u001b[38;5;124m'\u001b[39m\u001b[38;5;124mT\u001b[39m\u001b[38;5;124m'\u001b[39m, \u001b[38;5;124m'\u001b[39m\u001b[38;5;124mU\u001b[39m\u001b[38;5;124m'\u001b[39m))) \u001b[38;5;28;01mfor\u001b[39;00m record \u001b[38;5;129;01min\u001b[39;00m itertools\u001b[38;5;241m.\u001b[39mislice(\u001b[43mSeqIO\u001b[49m\u001b[38;5;241;43m.\u001b[39;49m\u001b[43mparse\u001b[49m\u001b[43m(\u001b[49m\u001b[43mfilename\u001b[49m\u001b[43m,\u001b[49m\u001b[43m \u001b[49m\u001b[38;5;124;43m\"\u001b[39;49m\u001b[38;5;124;43mfasta\u001b[39;49m\u001b[38;5;124;43m\"\u001b[39;49m\u001b[43m)\u001b[49m, \u001b[38;5;241m1\u001b[39m)]\n",
      "File \u001b[0;32m/srv/mingyang/miniconda3/envs/mar/lib/python3.8/site-packages/Bio/SeqIO/__init__.py:613\u001b[0m, in \u001b[0;36mparse\u001b[0;34m(handle, format, alphabet)\u001b[0m\n\u001b[1;32m    611\u001b[0m iterator_generator \u001b[38;5;241m=\u001b[39m _FormatToIterator\u001b[38;5;241m.\u001b[39mget(\u001b[38;5;28mformat\u001b[39m)\n\u001b[1;32m    612\u001b[0m \u001b[38;5;28;01mif\u001b[39;00m iterator_generator:\n\u001b[0;32m--> 613\u001b[0m     \u001b[38;5;28;01mreturn\u001b[39;00m \u001b[43miterator_generator\u001b[49m\u001b[43m(\u001b[49m\u001b[43mhandle\u001b[49m\u001b[43m)\u001b[49m\n\u001b[1;32m    614\u001b[0m \u001b[38;5;28;01mif\u001b[39;00m \u001b[38;5;28mformat\u001b[39m \u001b[38;5;129;01min\u001b[39;00m AlignIO\u001b[38;5;241m.\u001b[39m_FormatToIterator:\n\u001b[1;32m    615\u001b[0m     \u001b[38;5;66;03m# Use Bio.AlignIO to read in the alignments\u001b[39;00m\n\u001b[1;32m    616\u001b[0m     \u001b[38;5;28;01mreturn\u001b[39;00m (r \u001b[38;5;28;01mfor\u001b[39;00m alignment \u001b[38;5;129;01min\u001b[39;00m AlignIO\u001b[38;5;241m.\u001b[39mparse(handle, \u001b[38;5;28mformat\u001b[39m) \u001b[38;5;28;01mfor\u001b[39;00m r \u001b[38;5;129;01min\u001b[39;00m alignment)\n",
      "File \u001b[0;32m/srv/mingyang/miniconda3/envs/mar/lib/python3.8/site-packages/Bio/SeqIO/FastaIO.py:190\u001b[0m, in \u001b[0;36mFastaIterator.__init__\u001b[0;34m(self, source, alphabet)\u001b[0m\n\u001b[1;32m    188\u001b[0m \u001b[38;5;28;01mif\u001b[39;00m alphabet \u001b[38;5;129;01mis\u001b[39;00m \u001b[38;5;129;01mnot\u001b[39;00m \u001b[38;5;28;01mNone\u001b[39;00m:\n\u001b[1;32m    189\u001b[0m     \u001b[38;5;28;01mraise\u001b[39;00m \u001b[38;5;167;01mValueError\u001b[39;00m(\u001b[38;5;124m\"\u001b[39m\u001b[38;5;124mThe alphabet argument is no longer supported\u001b[39m\u001b[38;5;124m\"\u001b[39m)\n\u001b[0;32m--> 190\u001b[0m \u001b[38;5;28;43msuper\u001b[39;49m\u001b[43m(\u001b[49m\u001b[43m)\u001b[49m\u001b[38;5;241;43m.\u001b[39;49m\u001b[38;5;21;43m__init__\u001b[39;49m\u001b[43m(\u001b[49m\u001b[43msource\u001b[49m\u001b[43m,\u001b[49m\u001b[43m \u001b[49m\u001b[43mmode\u001b[49m\u001b[38;5;241;43m=\u001b[39;49m\u001b[38;5;124;43m\"\u001b[39;49m\u001b[38;5;124;43mt\u001b[39;49m\u001b[38;5;124;43m\"\u001b[39;49m\u001b[43m,\u001b[49m\u001b[43m \u001b[49m\u001b[43mfmt\u001b[49m\u001b[38;5;241;43m=\u001b[39;49m\u001b[38;5;124;43m\"\u001b[39;49m\u001b[38;5;124;43mFasta\u001b[39;49m\u001b[38;5;124;43m\"\u001b[39;49m\u001b[43m)\u001b[49m\n",
      "File \u001b[0;32m/srv/mingyang/miniconda3/envs/mar/lib/python3.8/site-packages/Bio/SeqIO/Interfaces.py:58\u001b[0m, in \u001b[0;36mSequenceIterator.__init__\u001b[0;34m(self, source, alphabet, mode, fmt)\u001b[0m\n\u001b[1;32m     56\u001b[0m     \u001b[38;5;28;01mraise\u001b[39;00m \u001b[38;5;167;01mValueError\u001b[39;00m(\u001b[38;5;124m\"\u001b[39m\u001b[38;5;124mThe alphabet argument is no longer supported\u001b[39m\u001b[38;5;124m\"\u001b[39m)\n\u001b[1;32m     57\u001b[0m \u001b[38;5;28;01mif\u001b[39;00m \u001b[38;5;28misinstance\u001b[39m(source, _PathLikeTypes):\n\u001b[0;32m---> 58\u001b[0m     \u001b[38;5;28mself\u001b[39m\u001b[38;5;241m.\u001b[39mstream \u001b[38;5;241m=\u001b[39m \u001b[38;5;28;43mopen\u001b[39;49m\u001b[43m(\u001b[49m\u001b[43msource\u001b[49m\u001b[43m,\u001b[49m\u001b[43m \u001b[49m\u001b[38;5;124;43m\"\u001b[39;49m\u001b[38;5;124;43mr\u001b[39;49m\u001b[38;5;124;43m\"\u001b[39;49m\u001b[43m \u001b[49m\u001b[38;5;241;43m+\u001b[39;49m\u001b[43m \u001b[49m\u001b[43mmode\u001b[49m\u001b[43m)\u001b[49m\n\u001b[1;32m     59\u001b[0m     \u001b[38;5;28mself\u001b[39m\u001b[38;5;241m.\u001b[39mshould_close_stream \u001b[38;5;241m=\u001b[39m \u001b[38;5;28;01mTrue\u001b[39;00m\n\u001b[1;32m     60\u001b[0m \u001b[38;5;28;01melse\u001b[39;00m:\n",
      "\u001b[0;31mFileNotFoundError\u001b[0m: [Errno 2] No such file or directory: '../data/RNA3D_DATA/seq/165d_B.seq'"
     ]
    }
   ],
   "source": [
    "inference()"
   ]
  },
  {
   "cell_type": "code",
   "execution_count": null,
   "metadata": {},
   "outputs": [],
   "source": []
  }
 ],
 "metadata": {
  "kernelspec": {
   "display_name": "rhofold",
   "language": "python",
   "name": "python3"
  },
  "language_info": {
   "codemirror_mode": {
    "name": "ipython",
    "version": 3
   },
   "file_extension": ".py",
   "mimetype": "text/x-python",
   "name": "python",
   "nbconvert_exporter": "python",
   "pygments_lexer": "ipython3",
   "version": "3.8.5"
  }
 },
 "nbformat": 4,
 "nbformat_minor": 2
}
