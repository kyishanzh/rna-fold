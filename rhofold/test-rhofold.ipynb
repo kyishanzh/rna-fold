{
 "cells": [
  {
   "cell_type": "code",
   "execution_count": 6,
   "metadata": {},
   "outputs": [],
   "source": [
    "import logging\n",
    "import os\n",
    "import sys\n",
    "\n",
    "import numpy as np\n",
    "import torch\n",
    "\n",
    "from rhofold.data.balstn import BLASTN\n",
    "from rhofold.rhofold import RhoFold\n",
    "from rhofold.config import rhofold_config\n",
    "from rhofold.utils import get_device, save_ss2ct, timing\n",
    "from rhofold.relax.relax import AmberRelaxation\n",
    "from rhofold.utils.alphabet import get_features\n",
    "\n",
    "@torch.no_grad()\n",
    "def main(ckpt='./pretrained/RhoFold_pretrained.pt'):\n",
    "    model = RhoFold(rhofold_config)\n",
    "    model.load_state_dict(torch.load(ckpt, map_location=torch.device('cpu'))['model'], strict=False)\n",
    "    model.eval()\n",
    "\n",
    "    return model\n",
    "\n",
    "def inference(seq_id='165d_B'):\n",
    "    device = get_device('cpu')\n",
    "    model = main().to(device)\n",
    "    print(\"Number of params:\", sum(p.numel() for p in model.parameters()))\n",
    "    input_fas = f'../data/RNA3D_DATA/seq/{seq_id}.seq'\n",
    "    input_a3m = f'../data/RNA3D_DATA/rMSA/{seq_id}.a3m'\n",
    "    data_dict = get_features(input_fas, input_a3m)\n",
    "    embedding = seq_id_to_embedding(seq_id)\n",
    "\n",
    "    outputs = model(tokens=data_dict['tokens'].to(device),\n",
    "                    rna_fm_tokens=data_dict['rna_fm_tokens'].to(device),\n",
    "                    seq=data_dict['seq'],\n",
    "                    evo2_fea=embedding,\n",
    "                    )\n",
    "\n",
    "    output = outputs[-1]\n",
    "\n",
    "    unrelaxed_model = f'tmp/unrelaxed_model.pdb'\n",
    "\n",
    "    node_cords_pred = output['cord_tns_pred'][-1].squeeze(0)\n",
    "    model.structure_module.converter.export_pdb_file(data_dict['seq'],\n",
    "                                                        node_cords_pred.data.cpu().numpy(),\n",
    "                                                        path=unrelaxed_model, chain_id=None,\n",
    "                                                        confidence=output['plddt'][0].data.cpu().numpy())"
   ]
  },
  {
   "cell_type": "code",
   "execution_count": 7,
   "metadata": {},
   "outputs": [
    {
     "name": "stdout",
     "output_type": "stream",
     "text": [
      "Number of params: 130059855\n"
     ]
    }
   ],
   "source": [
    "inference()"
   ]
  }
 ],
 "metadata": {
  "kernelspec": {
   "display_name": "rhofold",
   "language": "python",
   "name": "python3"
  },
  "language_info": {
   "codemirror_mode": {
    "name": "ipython",
    "version": 3
   },
   "file_extension": ".py",
   "mimetype": "text/x-python",
   "name": "python",
   "nbconvert_exporter": "python",
   "pygments_lexer": "ipython3",
   "version": "3.7.12"
  }
 },
 "nbformat": 4,
 "nbformat_minor": 2
}
