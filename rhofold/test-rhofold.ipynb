{
 "cells": [
  {
   "cell_type": "code",
   "execution_count": null,
   "metadata": {},
   "outputs": [
    {
     "name": "stderr",
     "output_type": "stream",
     "text": [
      "Warning: importing 'simtk.openmm' is deprecated.  Import 'openmm' instead.\n"
     ]
    }
   ],
   "source": [
    "import logging\n",
    "import os\n",
    "import sys\n",
    "\n",
    "import numpy as np\n",
    "import torch\n",
    "\n",
    "from rhofold.data.balstn import BLASTN\n",
    "from rhofold.rhofold import RhoFold\n",
    "from rhofold.config import rhofold_config\n",
    "from rhofold.utils import get_device, save_ss2ct, timing\n",
    "from rhofold.relax.relax import AmberRelaxation\n",
    "from rhofold.utils.alphabet import get_features\n",
    "\n",
    "@torch.no_grad()\n",
    "def main(ckpt='./pretrained/RhoFold_pretrained.pt'):\n",
    "    model = RhoFold(rhofold_config)\n",
    "    model.load_state_dict(torch.load(ckpt, map_location=torch.device('cpu'))['model'], strict=False)\n",
    "    model.eval()\n",
    "\n",
    "    return model\n",
    "\n",
    "def inference():\n",
    "    device = get_device('cpu')\n",
    "    model = main().to(device)\n",
    "    input_fas = 'test-rhofold.ipynb'\n",
    "    input_a3m = 'test-rhofold.ipynb'\n",
    "    data_dict = get_features(input_fas, input_a3m)\n",
    "\n",
    "    outputs = model(tokens=data_dict['tokens'].to(device),\n",
    "                    rna_fm_tokens=data_dict['rna_fm_tokens'].to(device),\n",
    "                    seq=data_dict['seq'],\n",
    "                    )\n",
    "\n",
    "    output = outputs[-1]\n",
    "\n",
    "    unrelaxed_model = f'tmp/unrelaxed_model.pdb'\n",
    "\n",
    "    node_cords_pred = output['cord_tns_pred'][-1].squeeze(0)\n",
    "    model.structure_module.converter.export_pdb_file(data_dict['seq'],\n",
    "                                                        node_cords_pred.data.cpu().numpy(),\n",
    "                                                        path=unrelaxed_model, chain_id=None,\n",
    "                                                        confidence=output['plddt'][0].data.cpu().numpy(),\n",
    "                                                        logger=logger)"
   ]
  },
  {
   "cell_type": "code",
   "execution_count": 2,
   "metadata": {},
   "outputs": [],
   "source": [
    "model = main()"
   ]
  },
  {
   "cell_type": "code",
   "execution_count": 4,
   "metadata": {},
   "outputs": [
    {
     "data": {
      "text/plain": [
       "126913743"
      ]
     },
     "execution_count": 4,
     "metadata": {},
     "output_type": "execute_result"
    }
   ],
   "source": [
    "sum(p.numel() for p in model.parameters())"
   ]
  },
  {
   "cell_type": "code",
   "execution_count": 3,
   "metadata": {},
   "outputs": [
    {
     "data": {
      "text/plain": [
       "['T_destination',\n",
       " '__annotations__',\n",
       " '__call__',\n",
       " '__class__',\n",
       " '__delattr__',\n",
       " '__dict__',\n",
       " '__dir__',\n",
       " '__doc__',\n",
       " '__eq__',\n",
       " '__format__',\n",
       " '__ge__',\n",
       " '__getattr__',\n",
       " '__getattribute__',\n",
       " '__gt__',\n",
       " '__hash__',\n",
       " '__init__',\n",
       " '__init_subclass__',\n",
       " '__le__',\n",
       " '__lt__',\n",
       " '__module__',\n",
       " '__ne__',\n",
       " '__new__',\n",
       " '__reduce__',\n",
       " '__reduce_ex__',\n",
       " '__repr__',\n",
       " '__setattr__',\n",
       " '__setstate__',\n",
       " '__sizeof__',\n",
       " '__str__',\n",
       " '__subclasshook__',\n",
       " '__weakref__',\n",
       " '_apply',\n",
       " '_backward_hooks',\n",
       " '_buffers',\n",
       " '_call_impl',\n",
       " '_forward_hooks',\n",
       " '_forward_pre_hooks',\n",
       " '_get_backward_hooks',\n",
       " '_get_name',\n",
       " '_is_full_backward_hook',\n",
       " '_load_from_state_dict',\n",
       " '_load_state_dict_pre_hooks',\n",
       " '_maybe_warn_non_full_backward_hook',\n",
       " '_modules',\n",
       " '_named_members',\n",
       " '_non_persistent_buffers_set',\n",
       " '_parameters',\n",
       " '_register_load_state_dict_pre_hook',\n",
       " '_register_state_dict_hook',\n",
       " '_replicate_for_data_parallel',\n",
       " '_save_to_state_dict',\n",
       " '_slow_forward',\n",
       " '_state_dict_hooks',\n",
       " '_version',\n",
       " 'add_module',\n",
       " 'apply',\n",
       " 'bfloat16',\n",
       " 'buffers',\n",
       " 'children',\n",
       " 'config',\n",
       " 'cpu',\n",
       " 'cuda',\n",
       " 'dist_head',\n",
       " 'double',\n",
       " 'dump_patches',\n",
       " 'e2eformer',\n",
       " 'eval',\n",
       " 'extra_repr',\n",
       " 'float',\n",
       " 'forward',\n",
       " 'forward_cords',\n",
       " 'forward_heads',\n",
       " 'forward_one_cycle',\n",
       " 'get_buffer',\n",
       " 'get_extra_state',\n",
       " 'get_parameter',\n",
       " 'get_submodule',\n",
       " 'half',\n",
       " 'load_state_dict',\n",
       " 'modules',\n",
       " 'msa_embedder',\n",
       " 'named_buffers',\n",
       " 'named_children',\n",
       " 'named_modules',\n",
       " 'named_parameters',\n",
       " 'parameters',\n",
       " 'plddt_head',\n",
       " 'recycle_embnet',\n",
       " 'register_backward_hook',\n",
       " 'register_buffer',\n",
       " 'register_forward_hook',\n",
       " 'register_forward_pre_hook',\n",
       " 'register_full_backward_hook',\n",
       " 'register_parameter',\n",
       " 'requires_grad_',\n",
       " 'set_extra_state',\n",
       " 'share_memory',\n",
       " 'ss_head',\n",
       " 'state_dict',\n",
       " 'structure_module',\n",
       " 'to',\n",
       " 'to_empty',\n",
       " 'train',\n",
       " 'training',\n",
       " 'type',\n",
       " 'xpu',\n",
       " 'zero_grad']"
      ]
     },
     "execution_count": 3,
     "metadata": {},
     "output_type": "execute_result"
    }
   ],
   "source": [
    "dir(model)"
   ]
  }
 ],
 "metadata": {
  "kernelspec": {
   "display_name": "rhofold",
   "language": "python",
   "name": "python3"
  },
  "language_info": {
   "codemirror_mode": {
    "name": "ipython",
    "version": 3
   },
   "file_extension": ".py",
   "mimetype": "text/x-python",
   "name": "python",
   "nbconvert_exporter": "python",
   "pygments_lexer": "ipython3",
   "version": "3.7.12"
  }
 },
 "nbformat": 4,
 "nbformat_minor": 2
}
