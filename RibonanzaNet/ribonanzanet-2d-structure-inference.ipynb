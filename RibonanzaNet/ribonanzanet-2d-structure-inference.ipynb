{
 "cells": [
  {
   "cell_type": "code",
   "execution_count": 3,
   "id": "da362c87",
   "metadata": {
    "execution": {
     "iopub.execute_input": "2024-11-08T20:46:49.722666Z",
     "iopub.status.busy": "2024-11-08T20:46:49.722256Z",
     "iopub.status.idle": "2024-11-08T20:46:53.718971Z",
     "shell.execute_reply": "2024-11-08T20:46:53.718014Z"
    },
    "papermill": {
     "duration": 4.010207,
     "end_time": "2024-11-08T20:46:53.721359",
     "exception": false,
     "start_time": "2024-11-08T20:46:49.711152",
     "status": "completed"
    },
    "tags": []
   },
   "outputs": [],
   "source": [
    "import pandas as pd\n",
    "import torch\n",
    "import matplotlib.pyplot as plt\n",
    "import numpy as np\n",
    "import torch\n",
    "import random"
   ]
  },
  {
   "cell_type": "markdown",
   "id": "8db7cfdc",
   "metadata": {
    "papermill": {
     "duration": 0.008621,
     "end_time": "2024-11-08T20:46:53.740137",
     "exception": false,
     "start_time": "2024-11-08T20:46:53.731516",
     "status": "completed"
    },
    "tags": []
   },
   "source": [
    "# Define Dataset"
   ]
  },
  {
   "cell_type": "code",
   "execution_count": 1,
   "id": "d1268593",
   "metadata": {
    "execution": {
     "iopub.execute_input": "2024-11-08T20:46:53.759454Z",
     "iopub.status.busy": "2024-11-08T20:46:53.758334Z",
     "iopub.status.idle": "2024-11-08T20:46:53.765414Z",
     "shell.execute_reply": "2024-11-08T20:46:53.764689Z"
    },
    "papermill": {
     "duration": 0.018575,
     "end_time": "2024-11-08T20:46:53.767364",
     "exception": false,
     "start_time": "2024-11-08T20:46:53.748789",
     "status": "completed"
    },
    "tags": []
   },
   "outputs": [],
   "source": [
    "from torch.utils.data import Dataset, DataLoader\n",
    "\n",
    "class RNA2D_Dataset(Dataset):\n",
    "    def __init__(self,data):\n",
    "        self.data=data\n",
    "        self.tokens={nt:i for i,nt in enumerate('ACGU')}\n",
    "\n",
    "    def __len__(self):\n",
    "        return len(self.data)\n",
    "    \n",
    "    def __getitem__(self, idx):\n",
    "        sequence=[self.tokens[nt] for nt in self.data.loc[idx,'sequence']]\n",
    "        sequence=np.array(sequence)\n",
    "        sequence=torch.tensor(sequence)\n",
    "\n",
    "        return {'sequence':sequence}"
   ]
  },
  {
   "cell_type": "code",
   "execution_count": 5,
   "id": "0d51b7ae",
   "metadata": {
    "execution": {
     "iopub.execute_input": "2024-11-08T20:46:53.785903Z",
     "iopub.status.busy": "2024-11-08T20:46:53.785601Z",
     "iopub.status.idle": "2024-11-08T20:46:53.851801Z",
     "shell.execute_reply": "2024-11-08T20:46:53.850874Z"
    },
    "papermill": {
     "duration": 0.077759,
     "end_time": "2024-11-08T20:46:53.853846",
     "exception": false,
     "start_time": "2024-11-08T20:46:53.776087",
     "status": "completed"
    },
    "tags": []
   },
   "outputs": [
    {
     "data": {
      "text/plain": [
       "{'sequence': tensor([2, 2, 2, 2, 2, 1, 1, 0, 1, 0, 2, 1, 0, 2, 0, 0, 2, 1, 2, 3, 3, 1, 0, 1,\n",
       "         2, 3, 1, 2, 1, 0, 2, 1, 1, 1, 1, 3, 2, 3, 1, 0, 2, 1, 1, 0, 3, 3, 2, 1,\n",
       "         0, 1, 3, 1, 1, 2, 2, 1, 3, 2, 1, 2, 0, 0, 3, 3, 1, 3, 2, 1, 3])}"
      ]
     },
     "execution_count": 5,
     "metadata": {},
     "output_type": "execute_result"
    }
   ],
   "source": [
    "test_data = pd.read_csv(\"../data/casp15.csv\")\n",
    "\n",
    "test_dataset=RNA2D_Dataset(test_data)\n",
    "test_dataset[0]"
   ]
  },
  {
   "cell_type": "code",
   "execution_count": 6,
   "id": "d9af2e1c",
   "metadata": {
    "execution": {
     "iopub.execute_input": "2024-11-08T20:46:53.873411Z",
     "iopub.status.busy": "2024-11-08T20:46:53.872695Z",
     "iopub.status.idle": "2024-11-08T20:46:53.878197Z",
     "shell.execute_reply": "2024-11-08T20:46:53.877371Z"
    },
    "papermill": {
     "duration": 0.017245,
     "end_time": "2024-11-08T20:46:53.880180",
     "exception": false,
     "start_time": "2024-11-08T20:46:53.862935",
     "status": "completed"
    },
    "tags": []
   },
   "outputs": [
    {
     "data": {
      "text/plain": [
       "12"
      ]
     },
     "execution_count": 6,
     "metadata": {},
     "output_type": "execute_result"
    }
   ],
   "source": [
    "len(test_dataset)"
   ]
  },
  {
   "cell_type": "markdown",
   "id": "263c9f9d",
   "metadata": {
    "papermill": {
     "duration": 0.008714,
     "end_time": "2024-11-08T20:46:53.898053",
     "exception": false,
     "start_time": "2024-11-08T20:46:53.889339",
     "status": "completed"
    },
    "tags": []
   },
   "source": [
    "# Define Model"
   ]
  },
  {
   "cell_type": "code",
   "execution_count": 7,
   "id": "54c2b5be",
   "metadata": {
    "execution": {
     "iopub.execute_input": "2024-11-08T20:46:53.917255Z",
     "iopub.status.busy": "2024-11-08T20:46:53.916926Z",
     "iopub.status.idle": "2024-11-08T20:47:07.091807Z",
     "shell.execute_reply": "2024-11-08T20:47:07.090585Z"
    },
    "papermill": {
     "duration": 13.187299,
     "end_time": "2024-11-08T20:47:07.094238",
     "exception": false,
     "start_time": "2024-11-08T20:46:53.906939",
     "status": "completed"
    },
    "tags": []
   },
   "outputs": [
    {
     "name": "stdout",
     "output_type": "stream",
     "text": [
      "Collecting einops\n",
      "  Downloading einops-0.8.1-py3-none-any.whl.metadata (13 kB)\n",
      "Downloading einops-0.8.1-py3-none-any.whl (64 kB)\n",
      "\u001b[2K   \u001b[90m━━━━━━━━━━━━━━━━━━━━━━━━━━━━━━━━━━━━━━━━\u001b[0m \u001b[32m64.4/64.4 kB\u001b[0m \u001b[31m3.2 MB/s\u001b[0m eta \u001b[36m0:00:00\u001b[0m\n",
      "\u001b[?25hInstalling collected packages: einops\n",
      "Successfully installed einops-0.8.1\n"
     ]
    }
   ],
   "source": [
    "! pip install einops"
   ]
  },
  {
   "cell_type": "code",
   "execution_count": 8,
   "id": "19a4a69c",
   "metadata": {
    "execution": {
     "iopub.execute_input": "2024-11-08T20:47:07.115241Z",
     "iopub.status.busy": "2024-11-08T20:47:07.114918Z",
     "iopub.status.idle": "2024-11-08T20:47:09.164380Z",
     "shell.execute_reply": "2024-11-08T20:47:09.163577Z"
    },
    "papermill": {
     "duration": 2.062599,
     "end_time": "2024-11-08T20:47:09.166758",
     "exception": false,
     "start_time": "2024-11-08T20:47:07.104159",
     "status": "completed"
    },
    "tags": []
   },
   "outputs": [],
   "source": [
    "import sys\n",
    "\n",
    "sys.path.append(\"/kaggle/input/ribonanzanet2d-final\")\n",
    "\n",
    "from Network import *\n",
    "import yaml\n",
    "\n",
    "class Config:\n",
    "    def __init__(self, **entries):\n",
    "        self.__dict__.update(entries)\n",
    "        self.entries=entries\n",
    "\n",
    "    def print(self):\n",
    "        print(self.entries)\n",
    "\n",
    "def load_config_from_yaml(file_path):\n",
    "    with open(file_path, 'r') as file:\n",
    "        config = yaml.safe_load(file)\n",
    "    return Config(**config)\n",
    "\n",
    "class finetuned_RibonanzaNet(RibonanzaNet):\n",
    "    def __init__(self, config):\n",
    "        config.dropout=0.3\n",
    "        super(finetuned_RibonanzaNet, self).__init__(config)\n",
    "\n",
    "        self.dropout=nn.Dropout(0.0)\n",
    "        self.ct_predictor=nn.Linear(64,1)\n",
    "\n",
    "    def forward(self,src):\n",
    "        \n",
    "        #with torch.no_grad():\n",
    "        _, pairwise_features=self.get_embeddings(src, torch.ones_like(src).long().to(src.device))\n",
    "\n",
    "        pairwise_features=pairwise_features+pairwise_features.permute(0,2,1,3) #symmetrize\n",
    "\n",
    "        output=self.ct_predictor(self.dropout(pairwise_features)) #predict\n",
    "\n",
    "        return output.squeeze(-1)"
   ]
  },
  {
   "cell_type": "code",
   "execution_count": 11,
   "id": "8f595aa5",
   "metadata": {
    "execution": {
     "iopub.execute_input": "2024-11-08T20:47:09.188025Z",
     "iopub.status.busy": "2024-11-08T20:47:09.187520Z",
     "iopub.status.idle": "2024-11-08T20:47:09.574222Z",
     "shell.execute_reply": "2024-11-08T20:47:09.573182Z"
    },
    "papermill": {
     "duration": 0.400007,
     "end_time": "2024-11-08T20:47:09.576624",
     "exception": false,
     "start_time": "2024-11-08T20:47:09.176617",
     "status": "completed"
    },
    "tags": []
   },
   "outputs": [
    {
     "name": "stdout",
     "output_type": "stream",
     "text": [
      "constructing 9 ConvTransformerEncoderLayers\n"
     ]
    },
    {
     "ename": "AssertionError",
     "evalue": "Torch not compiled with CUDA enabled",
     "output_type": "error",
     "traceback": [
      "\u001b[0;31m---------------------------------------------------------------------------\u001b[0m",
      "\u001b[0;31mAssertionError\u001b[0m                            Traceback (most recent call last)",
      "Cell \u001b[0;32mIn[11], line 2\u001b[0m\n\u001b[1;32m      1\u001b[0m \u001b[38;5;66;03m# model=finetuned_RibonanzaNet(load_config_from_yaml(\"/kaggle/input/ribonanzanet2d-final/configs/pairwise.yaml\")).cuda()\u001b[39;00m\n\u001b[0;32m----> 2\u001b[0m model\u001b[38;5;241m=\u001b[39mfinetuned_RibonanzaNet(load_config_from_yaml(\u001b[38;5;124m\"\u001b[39m\u001b[38;5;124mconfigs/pairwise.yaml\u001b[39m\u001b[38;5;124m\"\u001b[39m))\u001b[38;5;241m.\u001b[39mcuda()\n",
      "File \u001b[0;32m~/anaconda3/envs/immunoliugy/lib/python3.12/site-packages/torch/nn/modules/module.py:1053\u001b[0m, in \u001b[0;36mModule.cuda\u001b[0;34m(self, device)\u001b[0m\n\u001b[1;32m   1036\u001b[0m \u001b[38;5;28;01mdef\u001b[39;00m\u001b[38;5;250m \u001b[39m\u001b[38;5;21mcuda\u001b[39m(\u001b[38;5;28mself\u001b[39m: T, device: Optional[Union[\u001b[38;5;28mint\u001b[39m, device]] \u001b[38;5;241m=\u001b[39m \u001b[38;5;28;01mNone\u001b[39;00m) \u001b[38;5;241m-\u001b[39m\u001b[38;5;241m>\u001b[39m T:\n\u001b[1;32m   1037\u001b[0m \u001b[38;5;250m    \u001b[39m\u001b[38;5;124mr\u001b[39m\u001b[38;5;124;03m\"\"\"Move all model parameters and buffers to the GPU.\u001b[39;00m\n\u001b[1;32m   1038\u001b[0m \n\u001b[1;32m   1039\u001b[0m \u001b[38;5;124;03m    This also makes associated parameters and buffers different objects. So\u001b[39;00m\n\u001b[0;32m   (...)\u001b[0m\n\u001b[1;32m   1051\u001b[0m \u001b[38;5;124;03m        Module: self\u001b[39;00m\n\u001b[1;32m   1052\u001b[0m \u001b[38;5;124;03m    \"\"\"\u001b[39;00m\n\u001b[0;32m-> 1053\u001b[0m     \u001b[38;5;28;01mreturn\u001b[39;00m \u001b[38;5;28mself\u001b[39m\u001b[38;5;241m.\u001b[39m_apply(\u001b[38;5;28;01mlambda\u001b[39;00m t: t\u001b[38;5;241m.\u001b[39mcuda(device))\n",
      "File \u001b[0;32m~/anaconda3/envs/immunoliugy/lib/python3.12/site-packages/torch/nn/modules/module.py:903\u001b[0m, in \u001b[0;36mModule._apply\u001b[0;34m(self, fn, recurse)\u001b[0m\n\u001b[1;32m    901\u001b[0m \u001b[38;5;28;01mif\u001b[39;00m recurse:\n\u001b[1;32m    902\u001b[0m     \u001b[38;5;28;01mfor\u001b[39;00m module \u001b[38;5;129;01min\u001b[39;00m \u001b[38;5;28mself\u001b[39m\u001b[38;5;241m.\u001b[39mchildren():\n\u001b[0;32m--> 903\u001b[0m         module\u001b[38;5;241m.\u001b[39m_apply(fn)\n\u001b[1;32m    905\u001b[0m \u001b[38;5;28;01mdef\u001b[39;00m\u001b[38;5;250m \u001b[39m\u001b[38;5;21mcompute_should_use_set_data\u001b[39m(tensor, tensor_applied):\n\u001b[1;32m    906\u001b[0m     \u001b[38;5;28;01mif\u001b[39;00m torch\u001b[38;5;241m.\u001b[39m_has_compatible_shallow_copy_type(tensor, tensor_applied):\n\u001b[1;32m    907\u001b[0m         \u001b[38;5;66;03m# If the new tensor has compatible tensor type as the existing tensor,\u001b[39;00m\n\u001b[1;32m    908\u001b[0m         \u001b[38;5;66;03m# the current behavior is to change the tensor in-place using `.data =`,\u001b[39;00m\n\u001b[0;32m   (...)\u001b[0m\n\u001b[1;32m    913\u001b[0m         \u001b[38;5;66;03m# global flag to let the user control whether they want the future\u001b[39;00m\n\u001b[1;32m    914\u001b[0m         \u001b[38;5;66;03m# behavior of overwriting the existing tensor or not.\u001b[39;00m\n",
      "File \u001b[0;32m~/anaconda3/envs/immunoliugy/lib/python3.12/site-packages/torch/nn/modules/module.py:903\u001b[0m, in \u001b[0;36mModule._apply\u001b[0;34m(self, fn, recurse)\u001b[0m\n\u001b[1;32m    901\u001b[0m \u001b[38;5;28;01mif\u001b[39;00m recurse:\n\u001b[1;32m    902\u001b[0m     \u001b[38;5;28;01mfor\u001b[39;00m module \u001b[38;5;129;01min\u001b[39;00m \u001b[38;5;28mself\u001b[39m\u001b[38;5;241m.\u001b[39mchildren():\n\u001b[0;32m--> 903\u001b[0m         module\u001b[38;5;241m.\u001b[39m_apply(fn)\n\u001b[1;32m    905\u001b[0m \u001b[38;5;28;01mdef\u001b[39;00m\u001b[38;5;250m \u001b[39m\u001b[38;5;21mcompute_should_use_set_data\u001b[39m(tensor, tensor_applied):\n\u001b[1;32m    906\u001b[0m     \u001b[38;5;28;01mif\u001b[39;00m torch\u001b[38;5;241m.\u001b[39m_has_compatible_shallow_copy_type(tensor, tensor_applied):\n\u001b[1;32m    907\u001b[0m         \u001b[38;5;66;03m# If the new tensor has compatible tensor type as the existing tensor,\u001b[39;00m\n\u001b[1;32m    908\u001b[0m         \u001b[38;5;66;03m# the current behavior is to change the tensor in-place using `.data =`,\u001b[39;00m\n\u001b[0;32m   (...)\u001b[0m\n\u001b[1;32m    913\u001b[0m         \u001b[38;5;66;03m# global flag to let the user control whether they want the future\u001b[39;00m\n\u001b[1;32m    914\u001b[0m         \u001b[38;5;66;03m# behavior of overwriting the existing tensor or not.\u001b[39;00m\n",
      "    \u001b[0;31m[... skipping similar frames: Module._apply at line 903 (1 times)]\u001b[0m\n",
      "File \u001b[0;32m~/anaconda3/envs/immunoliugy/lib/python3.12/site-packages/torch/nn/modules/module.py:903\u001b[0m, in \u001b[0;36mModule._apply\u001b[0;34m(self, fn, recurse)\u001b[0m\n\u001b[1;32m    901\u001b[0m \u001b[38;5;28;01mif\u001b[39;00m recurse:\n\u001b[1;32m    902\u001b[0m     \u001b[38;5;28;01mfor\u001b[39;00m module \u001b[38;5;129;01min\u001b[39;00m \u001b[38;5;28mself\u001b[39m\u001b[38;5;241m.\u001b[39mchildren():\n\u001b[0;32m--> 903\u001b[0m         module\u001b[38;5;241m.\u001b[39m_apply(fn)\n\u001b[1;32m    905\u001b[0m \u001b[38;5;28;01mdef\u001b[39;00m\u001b[38;5;250m \u001b[39m\u001b[38;5;21mcompute_should_use_set_data\u001b[39m(tensor, tensor_applied):\n\u001b[1;32m    906\u001b[0m     \u001b[38;5;28;01mif\u001b[39;00m torch\u001b[38;5;241m.\u001b[39m_has_compatible_shallow_copy_type(tensor, tensor_applied):\n\u001b[1;32m    907\u001b[0m         \u001b[38;5;66;03m# If the new tensor has compatible tensor type as the existing tensor,\u001b[39;00m\n\u001b[1;32m    908\u001b[0m         \u001b[38;5;66;03m# the current behavior is to change the tensor in-place using `.data =`,\u001b[39;00m\n\u001b[0;32m   (...)\u001b[0m\n\u001b[1;32m    913\u001b[0m         \u001b[38;5;66;03m# global flag to let the user control whether they want the future\u001b[39;00m\n\u001b[1;32m    914\u001b[0m         \u001b[38;5;66;03m# behavior of overwriting the existing tensor or not.\u001b[39;00m\n",
      "File \u001b[0;32m~/anaconda3/envs/immunoliugy/lib/python3.12/site-packages/torch/nn/modules/module.py:930\u001b[0m, in \u001b[0;36mModule._apply\u001b[0;34m(self, fn, recurse)\u001b[0m\n\u001b[1;32m    926\u001b[0m \u001b[38;5;66;03m# Tensors stored in modules are graph leaves, and we don't want to\u001b[39;00m\n\u001b[1;32m    927\u001b[0m \u001b[38;5;66;03m# track autograd history of `param_applied`, so we have to use\u001b[39;00m\n\u001b[1;32m    928\u001b[0m \u001b[38;5;66;03m# `with torch.no_grad():`\u001b[39;00m\n\u001b[1;32m    929\u001b[0m \u001b[38;5;28;01mwith\u001b[39;00m torch\u001b[38;5;241m.\u001b[39mno_grad():\n\u001b[0;32m--> 930\u001b[0m     param_applied \u001b[38;5;241m=\u001b[39m fn(param)\n\u001b[1;32m    931\u001b[0m p_should_use_set_data \u001b[38;5;241m=\u001b[39m compute_should_use_set_data(param, param_applied)\n\u001b[1;32m    933\u001b[0m \u001b[38;5;66;03m# subclasses may have multiple child tensors so we need to use swap_tensors\u001b[39;00m\n",
      "File \u001b[0;32m~/anaconda3/envs/immunoliugy/lib/python3.12/site-packages/torch/nn/modules/module.py:1053\u001b[0m, in \u001b[0;36mModule.cuda.<locals>.<lambda>\u001b[0;34m(t)\u001b[0m\n\u001b[1;32m   1036\u001b[0m \u001b[38;5;28;01mdef\u001b[39;00m\u001b[38;5;250m \u001b[39m\u001b[38;5;21mcuda\u001b[39m(\u001b[38;5;28mself\u001b[39m: T, device: Optional[Union[\u001b[38;5;28mint\u001b[39m, device]] \u001b[38;5;241m=\u001b[39m \u001b[38;5;28;01mNone\u001b[39;00m) \u001b[38;5;241m-\u001b[39m\u001b[38;5;241m>\u001b[39m T:\n\u001b[1;32m   1037\u001b[0m \u001b[38;5;250m    \u001b[39m\u001b[38;5;124mr\u001b[39m\u001b[38;5;124;03m\"\"\"Move all model parameters and buffers to the GPU.\u001b[39;00m\n\u001b[1;32m   1038\u001b[0m \n\u001b[1;32m   1039\u001b[0m \u001b[38;5;124;03m    This also makes associated parameters and buffers different objects. So\u001b[39;00m\n\u001b[0;32m   (...)\u001b[0m\n\u001b[1;32m   1051\u001b[0m \u001b[38;5;124;03m        Module: self\u001b[39;00m\n\u001b[1;32m   1052\u001b[0m \u001b[38;5;124;03m    \"\"\"\u001b[39;00m\n\u001b[0;32m-> 1053\u001b[0m     \u001b[38;5;28;01mreturn\u001b[39;00m \u001b[38;5;28mself\u001b[39m\u001b[38;5;241m.\u001b[39m_apply(\u001b[38;5;28;01mlambda\u001b[39;00m t: t\u001b[38;5;241m.\u001b[39mcuda(device))\n",
      "File \u001b[0;32m~/anaconda3/envs/immunoliugy/lib/python3.12/site-packages/torch/cuda/__init__.py:310\u001b[0m, in \u001b[0;36m_lazy_init\u001b[0;34m()\u001b[0m\n\u001b[1;32m    305\u001b[0m     \u001b[38;5;28;01mraise\u001b[39;00m \u001b[38;5;167;01mRuntimeError\u001b[39;00m(\n\u001b[1;32m    306\u001b[0m         \u001b[38;5;124m\"\u001b[39m\u001b[38;5;124mCannot re-initialize CUDA in forked subprocess. To use CUDA with \u001b[39m\u001b[38;5;124m\"\u001b[39m\n\u001b[1;32m    307\u001b[0m         \u001b[38;5;124m\"\u001b[39m\u001b[38;5;124mmultiprocessing, you must use the \u001b[39m\u001b[38;5;124m'\u001b[39m\u001b[38;5;124mspawn\u001b[39m\u001b[38;5;124m'\u001b[39m\u001b[38;5;124m start method\u001b[39m\u001b[38;5;124m\"\u001b[39m\n\u001b[1;32m    308\u001b[0m     )\n\u001b[1;32m    309\u001b[0m \u001b[38;5;28;01mif\u001b[39;00m \u001b[38;5;129;01mnot\u001b[39;00m \u001b[38;5;28mhasattr\u001b[39m(torch\u001b[38;5;241m.\u001b[39m_C, \u001b[38;5;124m\"\u001b[39m\u001b[38;5;124m_cuda_getDeviceCount\u001b[39m\u001b[38;5;124m\"\u001b[39m):\n\u001b[0;32m--> 310\u001b[0m     \u001b[38;5;28;01mraise\u001b[39;00m \u001b[38;5;167;01mAssertionError\u001b[39;00m(\u001b[38;5;124m\"\u001b[39m\u001b[38;5;124mTorch not compiled with CUDA enabled\u001b[39m\u001b[38;5;124m\"\u001b[39m)\n\u001b[1;32m    311\u001b[0m \u001b[38;5;28;01mif\u001b[39;00m _cudart \u001b[38;5;129;01mis\u001b[39;00m \u001b[38;5;28;01mNone\u001b[39;00m:\n\u001b[1;32m    312\u001b[0m     \u001b[38;5;28;01mraise\u001b[39;00m \u001b[38;5;167;01mAssertionError\u001b[39;00m(\n\u001b[1;32m    313\u001b[0m         \u001b[38;5;124m\"\u001b[39m\u001b[38;5;124mlibcudart functions unavailable. It looks like you have a broken build?\u001b[39m\u001b[38;5;124m\"\u001b[39m\n\u001b[1;32m    314\u001b[0m     )\n",
      "\u001b[0;31mAssertionError\u001b[0m: Torch not compiled with CUDA enabled"
     ]
    }
   ],
   "source": [
    "# model=finetuned_RibonanzaNet(load_config_from_yaml(\"/kaggle/input/ribonanzanet2d-final/configs/pairwise.yaml\")).cuda()\n",
    "model=finetuned_RibonanzaNet(load_config_from_yaml(\"configs/pairwise.yaml\")).cuda()"
   ]
  },
  {
   "cell_type": "code",
   "execution_count": 8,
   "id": "a06095c0",
   "metadata": {
    "execution": {
     "iopub.execute_input": "2024-11-08T20:47:09.597412Z",
     "iopub.status.busy": "2024-11-08T20:47:09.597119Z",
     "iopub.status.idle": "2024-11-08T20:47:10.010977Z",
     "shell.execute_reply": "2024-11-08T20:47:10.009936Z"
    },
    "papermill": {
     "duration": 0.426646,
     "end_time": "2024-11-08T20:47:10.013105",
     "exception": false,
     "start_time": "2024-11-08T20:47:09.586459",
     "status": "completed"
    },
    "tags": []
   },
   "outputs": [
    {
     "data": {
      "text/plain": [
       "<All keys matched successfully>"
      ]
     },
     "execution_count": 8,
     "metadata": {},
     "output_type": "execute_result"
    }
   ],
   "source": [
    "model.load_state_dict(torch.load(\"/kaggle/input/ribonanzanet-weights/RibonanzaNet-SS.pt\",map_location='cpu'))"
   ]
  },
  {
   "cell_type": "markdown",
   "id": "28c641f2",
   "metadata": {
    "papermill": {
     "duration": 0.009589,
     "end_time": "2024-11-08T20:47:10.033329",
     "exception": false,
     "start_time": "2024-11-08T20:47:10.023740",
     "status": "completed"
    },
    "tags": []
   },
   "source": [
    "# Make predictions"
   ]
  },
  {
   "cell_type": "code",
   "execution_count": 9,
   "id": "01659c00",
   "metadata": {
    "execution": {
     "iopub.execute_input": "2024-11-08T20:47:10.054174Z",
     "iopub.status.busy": "2024-11-08T20:47:10.053831Z",
     "iopub.status.idle": "2024-11-08T20:47:13.260219Z",
     "shell.execute_reply": "2024-11-08T20:47:13.259276Z"
    },
    "papermill": {
     "duration": 3.219581,
     "end_time": "2024-11-08T20:47:13.262571",
     "exception": false,
     "start_time": "2024-11-08T20:47:10.042990",
     "status": "completed"
    },
    "tags": []
   },
   "outputs": [
    {
     "name": "stderr",
     "output_type": "stream",
     "text": [
      "  0%|          | 0/12 [00:00<?, ?it/s]/opt/conda/lib/python3.10/site-packages/torch/utils/checkpoint.py:31: UserWarning: None of the inputs have requires_grad=True. Gradients will be None\n",
      "  warnings.warn(\"None of the inputs have requires_grad=True. Gradients will be None\")\n",
      "100%|██████████| 12/12 [00:03<00:00,  3.76it/s]\n"
     ]
    }
   ],
   "source": [
    "from tqdm import tqdm\n",
    "\n",
    "test_preds=[]\n",
    "model.eval()\n",
    "for i in tqdm(range(len(test_dataset))):\n",
    "    example=test_dataset[i]\n",
    "    sequence=example['sequence'].cuda().unsqueeze(0)\n",
    "\n",
    "    with torch.no_grad():\n",
    "        test_preds.append(model(sequence).sigmoid().cpu().numpy())"
   ]
  },
  {
   "cell_type": "code",
   "execution_count": 10,
   "id": "5fd24c47",
   "metadata": {
    "execution": {
     "iopub.execute_input": "2024-11-08T20:47:13.285335Z",
     "iopub.status.busy": "2024-11-08T20:47:13.285031Z",
     "iopub.status.idle": "2024-11-08T20:47:13.580957Z",
     "shell.execute_reply": "2024-11-08T20:47:13.579915Z"
    },
    "papermill": {
     "duration": 0.31012,
     "end_time": "2024-11-08T20:47:13.583340",
     "exception": false,
     "start_time": "2024-11-08T20:47:13.273220",
     "status": "completed"
    },
    "tags": []
   },
   "outputs": [
    {
     "data": {
      "text/plain": [
       "<matplotlib.image.AxesImage at 0x79776cb4d510>"
      ]
     },
     "execution_count": 10,
     "metadata": {},
     "output_type": "execute_result"
    },
    {
     "data": {
      "image/png": "[encoded data removed]",
      "text/plain": [
       "<Figure size 640x480 with 1 Axes>"
      ]
     },
     "metadata": {},
     "output_type": "display_data"
    }
   ],
   "source": [
    "# let's take a look at the predictions\n",
    "import matplotlib.pyplot as plt\n",
    "plt.imshow(test_preds[0][0])\n"
   ]
  },
  {
   "cell_type": "markdown",
   "id": "4fe157e8",
   "metadata": {
    "papermill": {
     "duration": 0.012939,
     "end_time": "2024-11-08T20:47:13.609518",
     "exception": false,
     "start_time": "2024-11-08T20:47:13.596579",
     "status": "completed"
    },
    "tags": []
   },
   "source": [
    "# Discretize predicted probabilities into base pairs\n",
    "\n",
    "We will be using the Hungarian algorithm implemented in Arnie (https://github.com/DasLab/arnie)"
   ]
  },
  {
   "cell_type": "code",
   "execution_count": 11,
   "id": "c88f8109",
   "metadata": {
    "execution": {
     "iopub.execute_input": "2024-11-08T20:47:13.636943Z",
     "iopub.status.busy": "2024-11-08T20:47:13.636560Z",
     "iopub.status.idle": "2024-11-08T20:47:26.235482Z",
     "shell.execute_reply": "2024-11-08T20:47:26.234241Z"
    },
    "papermill": {
     "duration": 12.615478,
     "end_time": "2024-11-08T20:47:26.237866",
     "exception": false,
     "start_time": "2024-11-08T20:47:13.622388",
     "status": "completed"
    },
    "tags": []
   },
   "outputs": [
    {
     "name": "stdout",
     "output_type": "stream",
     "text": [
      "Collecting arnie\r\n",
      "  Obtaining dependency information for arnie from https://files.pythonhosted.org/packages/88/9a/0584cfd436ca414e928f5a7cf98c0a5e58ccc880c24fb0caa1c6631ce078/arnie-0.2.1-py3-none-any.whl.metadata\r\n",
      "  Downloading arnie-0.2.1-py3-none-any.whl.metadata (1.5 kB)\r\n",
      "Requirement already satisfied: numpy>=1.15 in /opt/conda/lib/python3.10/site-packages (from arnie) (1.24.3)\r\n",
      "Requirement already satisfied: scipy>=1.5.0 in /opt/conda/lib/python3.10/site-packages (from arnie) (1.11.4)\r\n",
      "Requirement already satisfied: matplotlib>=3.0.0 in /opt/conda/lib/python3.10/site-packages (from arnie) (3.7.4)\r\n",
      "Requirement already satisfied: contourpy>=1.0.1 in /opt/conda/lib/python3.10/site-packages (from matplotlib>=3.0.0->arnie) (1.1.0)\r\n",
      "Requirement already satisfied: cycler>=0.10 in /opt/conda/lib/python3.10/site-packages (from matplotlib>=3.0.0->arnie) (0.11.0)\r\n",
      "Requirement already satisfied: fonttools>=4.22.0 in /opt/conda/lib/python3.10/site-packages (from matplotlib>=3.0.0->arnie) (4.42.1)\r\n",
      "Requirement already satisfied: kiwisolver>=1.0.1 in /opt/conda/lib/python3.10/site-packages (from matplotlib>=3.0.0->arnie) (1.4.4)\r\n",
      "Requirement already satisfied: packaging>=20.0 in /opt/conda/lib/python3.10/site-packages (from matplotlib>=3.0.0->arnie) (21.3)\r\n",
      "Requirement already satisfied: pillow>=6.2.0 in /opt/conda/lib/python3.10/site-packages (from matplotlib>=3.0.0->arnie) (10.1.0)\r\n",
      "Requirement already satisfied: pyparsing>=2.3.1 in /opt/conda/lib/python3.10/site-packages (from matplotlib>=3.0.0->arnie) (3.0.9)\r\n",
      "Requirement already satisfied: python-dateutil>=2.7 in /opt/conda/lib/python3.10/site-packages (from matplotlib>=3.0.0->arnie) (2.8.2)\r\n",
      "Requirement already satisfied: six>=1.5 in /opt/conda/lib/python3.10/site-packages (from python-dateutil>=2.7->matplotlib>=3.0.0->arnie) (1.16.0)\r\n",
      "Downloading arnie-0.2.1-py3-none-any.whl (40 kB)\r\n",
      "\u001b[2K   \u001b[90m━━━━━━━━━━━━━━━━━━━━━━━━━━━━━━━━━━━━━━━━\u001b[0m \u001b[32m40.9/40.9 kB\u001b[0m \u001b[31m1.8 MB/s\u001b[0m eta \u001b[36m0:00:00\u001b[0m\r\n",
      "\u001b[?25hInstalling collected packages: arnie\r\n",
      "Successfully installed arnie-0.2.1\r\n"
     ]
    }
   ],
   "source": [
    "! pip install arnie"
   ]
  },
  {
   "cell_type": "code",
   "execution_count": 12,
   "id": "ba867b05",
   "metadata": {
    "execution": {
     "iopub.execute_input": "2024-11-08T20:47:26.263383Z",
     "iopub.status.busy": "2024-11-08T20:47:26.262510Z",
     "iopub.status.idle": "2024-11-08T20:47:26.694562Z",
     "shell.execute_reply": "2024-11-08T20:47:26.693558Z"
    },
    "papermill": {
     "duration": 0.447206,
     "end_time": "2024-11-08T20:47:26.696978",
     "exception": false,
     "start_time": "2024-11-08T20:47:26.249772",
     "status": "completed"
    },
    "tags": []
   },
   "outputs": [
    {
     "name": "stderr",
     "output_type": "stream",
     "text": [
      "/opt/conda/lib/python3.10/site-packages/scipy/__init__.py:146: UserWarning: A NumPy version >=1.16.5 and <1.23.0 is required for this version of SciPy (detected version 1.24.3\n",
      "  warnings.warn(f\"A NumPy version >={np_minversion} and <{np_maxversion}\"\n"
     ]
    }
   ],
   "source": [
    "import os\n",
    "\n",
    "#create dummy arnie config\n",
    "with open('arnie_file.txt','w+') as f:\n",
    "    f.write(\"linearpartition: . \\nTMP: /tmp\")\n",
    "    \n",
    "os.environ['ARNIEFILE'] = 'arnie_file.txt'\n",
    "\n",
    "from arnie.pk_predictors import _hungarian\n",
    "\n",
    "def mask_diagonal(matrix, mask_value=0):\n",
    "    matrix=matrix.copy()\n",
    "    n = len(matrix)\n",
    "    for i in range(n):\n",
    "        for j in range(n):\n",
    "            if abs(i - j) < 4:\n",
    "                matrix[i][j] = mask_value\n",
    "    return matrix\n"
   ]
  },
  {
   "cell_type": "code",
   "execution_count": 13,
   "id": "7620f950",
   "metadata": {
    "execution": {
     "iopub.execute_input": "2024-11-08T20:47:26.722754Z",
     "iopub.status.busy": "2024-11-08T20:47:26.722022Z",
     "iopub.status.idle": "2024-11-08T20:47:28.687272Z",
     "shell.execute_reply": "2024-11-08T20:47:28.686478Z"
    },
    "papermill": {
     "duration": 1.980622,
     "end_time": "2024-11-08T20:47:28.689715",
     "exception": false,
     "start_time": "2024-11-08T20:47:26.709093",
     "status": "completed"
    },
    "tags": []
   },
   "outputs": [],
   "source": [
    "test_preds_hungarian=[]\n",
    "hungarian_structures=[]\n",
    "hungarian_bps=[]\n",
    "for i in range(len(test_preds)):\n",
    "    s,bp=_hungarian(mask_diagonal(test_preds[i][0]),theta=0.5,min_len_helix=1) #best theta based on val is 0.5\n",
    "    hungarian_bps.append(bp)\n",
    "    ct_matrix=np.zeros((len(s),len(s)))\n",
    "    for b in bp:\n",
    "        ct_matrix[b[0],b[1]]=1\n",
    "    ct_matrix=ct_matrix+ct_matrix.T\n",
    "    test_preds_hungarian.append(ct_matrix)\n",
    "    hungarian_structures.append(s)\n",
    "    #break"
   ]
  },
  {
   "cell_type": "code",
   "execution_count": 14,
   "id": "d672bb4b",
   "metadata": {
    "execution": {
     "iopub.execute_input": "2024-11-08T20:47:28.715052Z",
     "iopub.status.busy": "2024-11-08T20:47:28.714711Z",
     "iopub.status.idle": "2024-11-08T20:47:28.720803Z",
     "shell.execute_reply": "2024-11-08T20:47:28.719904Z"
    },
    "papermill": {
     "duration": 0.020716,
     "end_time": "2024-11-08T20:47:28.722644",
     "exception": false,
     "start_time": "2024-11-08T20:47:28.701928",
     "status": "completed"
    },
    "tags": []
   },
   "outputs": [
    {
     "data": {
      "text/plain": [
       "'((((((...[[[[[[[(((.......))).))))))..(((((..........)))))....]]]]]]]'"
      ]
     },
     "execution_count": 14,
     "metadata": {},
     "output_type": "execute_result"
    }
   ],
   "source": [
    "hungarian_structures[0]"
   ]
  },
  {
   "cell_type": "markdown",
   "id": "b248fbe6",
   "metadata": {
    "papermill": {
     "duration": 0.011382,
     "end_time": "2024-11-08T20:47:28.745949",
     "exception": false,
     "start_time": "2024-11-08T20:47:28.734567",
     "status": "completed"
    },
    "tags": []
   },
   "source": [
    "# Calculate eF1 score\n",
    "\n",
    "We found model confidence is linear correlated with F1 score, so we created linear regression models that estimate F1 scores based on confidence of predictions using our test dataset"
   ]
  },
  {
   "cell_type": "code",
   "execution_count": 15,
   "id": "96800281",
   "metadata": {
    "execution": {
     "iopub.execute_input": "2024-11-08T20:47:28.771051Z",
     "iopub.status.busy": "2024-11-08T20:47:28.770684Z",
     "iopub.status.idle": "2024-11-08T20:47:28.780153Z",
     "shell.execute_reply": "2024-11-08T20:47:28.779356Z"
    },
    "papermill": {
     "duration": 0.024445,
     "end_time": "2024-11-08T20:47:28.782147",
     "exception": false,
     "start_time": "2024-11-08T20:47:28.757702",
     "status": "completed"
    },
    "tags": []
   },
   "outputs": [],
   "source": [
    "def dedupe_lists(list_of_lists):\n",
    "    # Step 1: Convert each sublist to a sorted tuple\n",
    "    tuple_set = {tuple(sorted(sublist)) for sublist in list_of_lists}\n",
    "    \n",
    "    # Step 2: Convert the set of tuples back to a list of lists\n",
    "    deduped_list = [list(tup) for tup in tuple_set]\n",
    "    \n",
    "    return deduped_list\n",
    "\n",
    "def detect_crossed_pairs(bp_list):\n",
    "    \"\"\"\n",
    "    Detect crossed base pairs in a list of base pairs in RNA secondary structure.\n",
    "\n",
    "    Args:\n",
    "    bp_list (list of tuples): List of base pairs, where each tuple (i, j) represents a base pair.\n",
    "    \n",
    "    Returns:\n",
    "    list of tuples: List of crossed base pairs.\n",
    "    \"\"\"\n",
    "    crossed_pairs_set = set()\n",
    "    crossed_pairs = []\n",
    "    # Iterate through each pair of base pairs\n",
    "    for i in range(len(bp_list)):\n",
    "        for j in range(i+1, len(bp_list)):\n",
    "            bp1 = bp_list[i]\n",
    "            bp2 = bp_list[j]\n",
    "\n",
    "            # Check if they are crossed\n",
    "            if (bp1[0] < bp2[0] < bp1[1] < bp2[1]) or (bp2[0] < bp1[0] < bp2[1] < bp1[1]):\n",
    "                crossed_pairs.append(bp1)\n",
    "                crossed_pairs.append(bp2)\n",
    "                crossed_pairs_set.add(bp1[0])\n",
    "                crossed_pairs_set.add(bp1[1])\n",
    "                crossed_pairs_set.add(bp2[0])\n",
    "                crossed_pairs_set.add(bp2[1])\n",
    "    return dedupe_lists(crossed_pairs), crossed_pairs_set"
   ]
  },
  {
   "cell_type": "code",
   "execution_count": 16,
   "id": "d94225ab",
   "metadata": {
    "execution": {
     "iopub.execute_input": "2024-11-08T20:47:28.807004Z",
     "iopub.status.busy": "2024-11-08T20:47:28.806720Z",
     "iopub.status.idle": "2024-11-08T20:47:28.818289Z",
     "shell.execute_reply": "2024-11-08T20:47:28.817437Z"
    },
    "papermill": {
     "duration": 0.026086,
     "end_time": "2024-11-08T20:47:28.820182",
     "exception": false,
     "start_time": "2024-11-08T20:47:28.794096",
     "status": "completed"
    },
    "tags": []
   },
   "outputs": [],
   "source": [
    "class EA_eF1_model():\n",
    "\n",
    "\n",
    "\n",
    "    \n",
    "    def score_expected(self, bps, bpp, for_cross):\n",
    "            N = bpp.shape[0]\n",
    "\n",
    "            bps_matrix=np.zeros((N, N))\n",
    "            for b in bps:\n",
    "                bps_matrix[b[0],b[1]]=1\n",
    "            bps_matrix=bps_matrix+bps_matrix.T\n",
    "\n",
    "            mask_matrix = np.ones((N,N))\n",
    "            if for_cross:\n",
    "                cross_pair_res = sorted([res for pair in bps for res in pair])\n",
    "                mask_matrix = np.zeros((N,N))\n",
    "                mask_matrix[:,cross_pair_res] = 1\n",
    "                mask_matrix[cross_pair_res,:] = 1\n",
    "\n",
    "            pred_m = bps_matrix[np.triu_indices(N)]\n",
    "            probs = bpp[np.triu_indices(N)]\n",
    "            mask = mask_matrix[np.triu_indices(N)]\n",
    "\n",
    "            TP = np.sum(pred_m * probs * mask) + 1e-6\n",
    "            TN = np.sum((1-pred_m) * (1-probs) * mask) + 1e-6\n",
    "            FP = np.sum((pred_m) * (1-probs) * mask) + 1e-6\n",
    "            FN = np.sum((1-pred_m) * probs * mask) + 1e-6\n",
    "\n",
    "            #print(f'justcross: {for_cross} TP: {TP} TN: {TN} FP: {FP} FN: {FN}')\n",
    "            cFP = 1e-6\n",
    "\n",
    "            sen = TP/(TP + FN)\n",
    "            ppv = TP/(TP + FP - cFP)\n",
    "            mcc = (TP*TN - (FP - cFP)*FN)/np.sqrt((TP + FP - cFP)*(TP + FN)*(TN + FP - cFP)*(TN + FN))\n",
    "            fscore = 2*TP/(2*TP + FP - cFP + FN)\n",
    "\n",
    "            return [sen, ppv, mcc, fscore]    \n",
    "\n",
    "    def __call__(self,bps,bpp):\n",
    "        cp_bps=detect_crossed_pairs(bps)[0]  \n",
    "        return self.score_expected(bps, bpp, False)[3], self.score_expected(cp_bps, bpp, True)[3]     "
   ]
  },
  {
   "cell_type": "code",
   "execution_count": 17,
   "id": "a65f5387",
   "metadata": {
    "execution": {
     "iopub.execute_input": "2024-11-08T20:47:28.845008Z",
     "iopub.status.busy": "2024-11-08T20:47:28.844683Z",
     "iopub.status.idle": "2024-11-08T20:47:28.848923Z",
     "shell.execute_reply": "2024-11-08T20:47:28.848030Z"
    },
    "papermill": {
     "duration": 0.018934,
     "end_time": "2024-11-08T20:47:28.850888",
     "exception": false,
     "start_time": "2024-11-08T20:47:28.831954",
     "status": "completed"
    },
    "tags": []
   },
   "outputs": [],
   "source": [
    "eF1_model = EA_eF1_model()"
   ]
  },
  {
   "cell_type": "code",
   "execution_count": 18,
   "id": "5d81824e",
   "metadata": {
    "execution": {
     "iopub.execute_input": "2024-11-08T20:47:28.876042Z",
     "iopub.status.busy": "2024-11-08T20:47:28.875717Z",
     "iopub.status.idle": "2024-11-08T20:47:28.969642Z",
     "shell.execute_reply": "2024-11-08T20:47:28.968861Z"
    },
    "papermill": {
     "duration": 0.109235,
     "end_time": "2024-11-08T20:47:28.971987",
     "exception": false,
     "start_time": "2024-11-08T20:47:28.862752",
     "status": "completed"
    },
    "tags": []
   },
   "outputs": [],
   "source": [
    "eF1s=[]\n",
    "for pred, bp_list in zip(test_preds,hungarian_bps):\n",
    "    bpp=pred[0]\n",
    "    \n",
    "    #crossed_pairs,crossed_pairs_set=detect_crossed_pairs(bp_list)\n",
    "    #global_confidence=np.mean([bpp[j, k] for j, k in bp_list])\n",
    "    #cross_pair_confidence=np.mean([bpp[j, k] for j, k in crossed_pairs])\n",
    "    \n",
    "#     global_ef1=3.66*global_confidence-2.7\n",
    "#     crossed_pair_ef1=6.2*cross_pair_confidence-5.17\n",
    "    \n",
    "    global_ef1, crossed_pair_ef1 = eF1_model(bp_list, bpp)\n",
    "    \n",
    "    \n",
    "    \n",
    "    \n",
    "    eF1s.append({'global_ef1':global_ef1,\"crossed_pair_ef1\":crossed_pair_ef1})\n",
    "    \n",
    "    \n",
    "    "
   ]
  },
  {
   "cell_type": "code",
   "execution_count": 19,
   "id": "d3a04dbc",
   "metadata": {
    "execution": {
     "iopub.execute_input": "2024-11-08T20:47:29.037782Z",
     "iopub.status.busy": "2024-11-08T20:47:29.037370Z",
     "iopub.status.idle": "2024-11-08T20:47:29.044326Z",
     "shell.execute_reply": "2024-11-08T20:47:29.043477Z"
    },
    "papermill": {
     "duration": 0.022276,
     "end_time": "2024-11-08T20:47:29.046287",
     "exception": false,
     "start_time": "2024-11-08T20:47:29.024011",
     "status": "completed"
    },
    "tags": []
   },
   "outputs": [
    {
     "data": {
      "text/plain": [
       "[{'global_ef1': 0.9376250173251878, 'crossed_pair_ef1': 0.988720088498934},\n",
       " {'global_ef1': 0.985820948489972, 'crossed_pair_ef1': 0.9951634848748555},\n",
       " {'global_ef1': 0.9337243175072167, 'crossed_pair_ef1': 0.9183167685105678},\n",
       " {'global_ef1': 0.9019618587934959, 'crossed_pair_ef1': 0.919629603246363},\n",
       " {'global_ef1': 0.9491866760003527, 'crossed_pair_ef1': 0.9382480414536365},\n",
       " {'global_ef1': 0.9846153179793814, 'crossed_pair_ef1': 0.9669904669401562},\n",
       " {'global_ef1': 0.9531587224686336, 'crossed_pair_ef1': 0.9516638505160329},\n",
       " {'global_ef1': 0.9229198409455024, 'crossed_pair_ef1': 0.9166227321232356},\n",
       " {'global_ef1': 0.9837500188755303, 'crossed_pair_ef1': 0.6666666666666666},\n",
       " {'global_ef1': 0.9798357935978238, 'crossed_pair_ef1': 0.6666666666666666},\n",
       " {'global_ef1': 0.8803462840061606, 'crossed_pair_ef1': 0.7999751917040074},\n",
       " {'global_ef1': 0.8803462840061606, 'crossed_pair_ef1': 0.7999751917040074}]"
      ]
     },
     "execution_count": 19,
     "metadata": {},
     "output_type": "execute_result"
    }
   ],
   "source": [
    "eF1s"
   ]
  },
  {
   "cell_type": "markdown",
   "id": "fd037969",
   "metadata": {
    "papermill": {
     "duration": 0.011681,
     "end_time": "2024-11-08T20:47:29.069883",
     "exception": false,
     "start_time": "2024-11-08T20:47:29.058202",
     "status": "completed"
    },
    "tags": []
   },
   "source": [
    "# Calculate F1 scores againts ground truth 2D structures"
   ]
  },
  {
   "cell_type": "code",
   "execution_count": 20,
   "id": "3c407b2b",
   "metadata": {
    "execution": {
     "iopub.execute_input": "2024-11-08T20:47:29.094737Z",
     "iopub.status.busy": "2024-11-08T20:47:29.094404Z",
     "iopub.status.idle": "2024-11-08T20:47:29.103900Z",
     "shell.execute_reply": "2024-11-08T20:47:29.103114Z"
    },
    "papermill": {
     "duration": 0.024111,
     "end_time": "2024-11-08T20:47:29.105829",
     "exception": false,
     "start_time": "2024-11-08T20:47:29.081718",
     "status": "completed"
    },
    "tags": []
   },
   "outputs": [],
   "source": [
    "def dotbrackte2bp(structure):\n",
    "    stack={'(':[],\n",
    "           '[':[],\n",
    "           '<':[],\n",
    "           '{':[]}\n",
    "    pop={')':'(',\n",
    "         ']':'[',\n",
    "         '>':\"<\",\n",
    "         '}':'{'}       \n",
    "    bp_list=[]\n",
    "    matrix=np.zeros((len(structure),len(structure)))\n",
    "    for i,s in enumerate(structure):\n",
    "        if s in stack:\n",
    "            stack[s].append((i,s))\n",
    "        elif s in pop:\n",
    "            forward_bracket=stack[pop[s]].pop()\n",
    "            #bp_list.append(str(forward_bracket[0])+'-'+str(i))\n",
    "            #bp_list.append([forward_bracket[0],i])\n",
    "            bp_list.append([forward_bracket[0],i])\n",
    "\n",
    "    return bp_list  \n",
    "\n",
    "\n",
    "def calculate_f1_score_with_pseudoknots(true_pairs, predicted_pairs):\n",
    "    true_pairs=[f\"{i}-{j}\" for i,j in true_pairs]\n",
    "    predicted_pairs=[f\"{i}-{j}\" for i,j in predicted_pairs]\n",
    "    \n",
    "    true_pairs=set(true_pairs)\n",
    "    predicted_pairs=set(predicted_pairs)\n",
    "\n",
    "    # Calculate TP, FP, and FN\n",
    "    TP = len(true_pairs.intersection(predicted_pairs))\n",
    "    FP = len(predicted_pairs)-TP\n",
    "    FN = len(true_pairs)-TP\n",
    "\n",
    "    # Calculate Precision, Recall, and F1 Score\n",
    "    precision = TP / (TP + FP) if (TP + FP) > 0 else 0\n",
    "    recall = TP / (TP + FN) if (TP + FN) > 0 else 0\n",
    "    f1_score = 2 * (precision * recall) / (precision + recall) if (precision + recall) > 0 else 0\n",
    "\n",
    "    return precision, recall, f1_score"
   ]
  },
  {
   "cell_type": "code",
   "execution_count": 21,
   "id": "2add5e3e",
   "metadata": {
    "execution": {
     "iopub.execute_input": "2024-11-08T20:47:29.130534Z",
     "iopub.status.busy": "2024-11-08T20:47:29.130247Z",
     "iopub.status.idle": "2024-11-08T20:47:29.210779Z",
     "shell.execute_reply": "2024-11-08T20:47:29.209662Z"
    },
    "papermill": {
     "duration": 0.095079,
     "end_time": "2024-11-08T20:47:29.212737",
     "exception": false,
     "start_time": "2024-11-08T20:47:29.117658",
     "status": "completed"
    },
    "tags": []
   },
   "outputs": [
    {
     "name": "stdout",
     "output_type": "stream",
     "text": [
      "global F1 mean 0.9364434807121677\n",
      "global F1 median 0.9531641604010025\n",
      "crossed pair F1 mean 0.6982813910609801\n",
      "crossed pair F1 median 0.8968660968660969\n"
     ]
    }
   ],
   "source": [
    "from ast import literal_eval\n",
    "from arnie.utils import  convert_dotbracket_to_bp_list\n",
    "\n",
    "F1s=[]\n",
    "crossed_pair_F1s=[]\n",
    "for true_bp, predicted_bp in zip(test_data['bp'],hungarian_bps):\n",
    "\n",
    "    true_bp=literal_eval(true_bp)\n",
    "    crossed_pairs,crossed_pairs_set=detect_crossed_pairs(true_bp)\n",
    "    predicted_crossed_pairs,predicted_crossed_pairs_set=detect_crossed_pairs(predicted_bp)\n",
    "    \n",
    "    _,_,f1=calculate_f1_score_with_pseudoknots(true_bp, predicted_bp)\n",
    "    F1s.append(f1)\n",
    "    \n",
    "\n",
    "    if len(crossed_pairs)>0:\n",
    "        _,_,crossed_pair_f1=calculate_f1_score_with_pseudoknots(crossed_pairs, predicted_crossed_pairs)\n",
    "        crossed_pair_F1s.append(crossed_pair_f1)\n",
    "    elif len(crossed_pairs)==0 and len(predicted_crossed_pairs)>0:\n",
    "        crossed_pair_F1s.append(0)\n",
    "    else:\n",
    "        crossed_pair_F1s.append(np.nan)\n",
    "    \n",
    "    \n",
    "print('global F1 mean',np.mean(F1s))\n",
    "print('global F1 median',np.median(F1s))\n",
    "print('crossed pair F1 mean',np.nanmean(crossed_pair_F1s))\n",
    "print('crossed pair F1 median',np.nanmedian(crossed_pair_F1s))\n"
   ]
  },
  {
   "cell_type": "code",
   "execution_count": 22,
   "id": "20ed701d",
   "metadata": {
    "execution": {
     "iopub.execute_input": "2024-11-08T20:47:29.237721Z",
     "iopub.status.busy": "2024-11-08T20:47:29.237455Z",
     "iopub.status.idle": "2024-11-08T20:47:29.450105Z",
     "shell.execute_reply": "2024-11-08T20:47:29.449188Z"
    },
    "papermill": {
     "duration": 0.227513,
     "end_time": "2024-11-08T20:47:29.452322",
     "exception": false,
     "start_time": "2024-11-08T20:47:29.224809",
     "status": "completed"
    },
    "tags": []
   },
   "outputs": [
    {
     "data": {
      "text/plain": [
       "([<matplotlib.axis.XTick at 0x79774c3de470>,\n",
       "  <matplotlib.axis.XTick at 0x79774c3de530>],\n",
       " [Text(1, 0, 'F1'), Text(2, 0, 'Crossed Pair F1')])"
      ]
     },
     "execution_count": 22,
     "metadata": {},
     "output_type": "execute_result"
    },
    {
     "data": {
      "image/png": "[encoded data removed]",
      "text/plain": [
       "<Figure size 640x480 with 1 Axes>"
      ]
     },
     "metadata": {},
     "output_type": "display_data"
    }
   ],
   "source": [
    "plt.boxplot([F1s,np.array(crossed_pair_F1s)[~np.isnan(crossed_pair_F1s)]])\n",
    "plt.xticks([1, 2], ['F1', 'Crossed Pair F1'])\n"
   ]
  },
  {
   "cell_type": "markdown",
   "id": "301b918a",
   "metadata": {
    "papermill": {
     "duration": 0.012619,
     "end_time": "2024-11-08T20:47:29.477721",
     "exception": false,
     "start_time": "2024-11-08T20:47:29.465102",
     "status": "completed"
    },
    "tags": []
   },
   "source": [
    "# Check how correlated eF1s are with true F1s\n",
    "\n",
    "About 0.824 correlation, so pretty good! "
   ]
  },
  {
   "cell_type": "code",
   "execution_count": 23,
   "id": "0c4fde2b",
   "metadata": {
    "execution": {
     "iopub.execute_input": "2024-11-08T20:47:29.504037Z",
     "iopub.status.busy": "2024-11-08T20:47:29.503686Z",
     "iopub.status.idle": "2024-11-08T20:47:29.509475Z",
     "shell.execute_reply": "2024-11-08T20:47:29.508622Z"
    },
    "papermill": {
     "duration": 0.021415,
     "end_time": "2024-11-08T20:47:29.511526",
     "exception": false,
     "start_time": "2024-11-08T20:47:29.490111",
     "status": "completed"
    },
    "tags": []
   },
   "outputs": [
    {
     "data": {
      "text/plain": [
       "12"
      ]
     },
     "execution_count": 23,
     "metadata": {},
     "output_type": "execute_result"
    }
   ],
   "source": [
    "len(F1s)"
   ]
  },
  {
   "cell_type": "code",
   "execution_count": 24,
   "id": "c3e938ed",
   "metadata": {
    "execution": {
     "iopub.execute_input": "2024-11-08T20:47:29.539283Z",
     "iopub.status.busy": "2024-11-08T20:47:29.538995Z",
     "iopub.status.idle": "2024-11-08T20:47:30.329475Z",
     "shell.execute_reply": "2024-11-08T20:47:30.328606Z"
    },
    "papermill": {
     "duration": 0.806775,
     "end_time": "2024-11-08T20:47:30.331633",
     "exception": false,
     "start_time": "2024-11-08T20:47:29.524858",
     "status": "completed"
    },
    "tags": []
   },
   "outputs": [
    {
     "data": {
      "text/plain": [
       "Text(0, 0.5, 'global eF1')"
      ]
     },
     "execution_count": 24,
     "metadata": {},
     "output_type": "execute_result"
    },
    {
     "data": {
      "image/png": "[encoded data removed]",
      "text/plain": [
       "<Figure size 640x480 with 1 Axes>"
      ]
     },
     "metadata": {},
     "output_type": "display_data"
    }
   ],
   "source": [
    "from scipy.stats import pearsonr\n",
    "corr,p=pearsonr(F1s,[i['global_ef1'] for i in eF1s])\n",
    "\n",
    "plt.title(f\"Pearsonr: {corr:.2f}\")\n",
    "plt.scatter(F1s,[i['global_ef1'] for i in eF1s])\n",
    "plt.xlabel('global F1')\n",
    "plt.ylabel('global eF1')"
   ]
  },
  {
   "cell_type": "code",
   "execution_count": 25,
   "id": "8c85b2c8",
   "metadata": {
    "execution": {
     "iopub.execute_input": "2024-11-08T20:47:30.360450Z",
     "iopub.status.busy": "2024-11-08T20:47:30.360071Z",
     "iopub.status.idle": "2024-11-08T20:47:30.682361Z",
     "shell.execute_reply": "2024-11-08T20:47:30.681451Z"
    },
    "papermill": {
     "duration": 0.339434,
     "end_time": "2024-11-08T20:47:30.684715",
     "exception": false,
     "start_time": "2024-11-08T20:47:30.345281",
     "status": "completed"
    },
    "tags": []
   },
   "outputs": [
    {
     "data": {
      "text/plain": [
       "Text(0, 0.5, 'Crossed Pair eF1')"
      ]
     },
     "execution_count": 25,
     "metadata": {},
     "output_type": "execute_result"
    },
    {
     "data": {
      "image/png": "[encoded data removed]",
      "text/plain": [
       "<Figure size 640x480 with 1 Axes>"
      ]
     },
     "metadata": {},
     "output_type": "display_data"
    }
   ],
   "source": [
    "from scipy.stats import pearsonr\n",
    "crossed_pair_F1s=np.array(crossed_pair_F1s)\n",
    "crossed_pair_eF1s=np.array([i['crossed_pair_ef1'] for i in eF1s])\n",
    "\n",
    "#mask nans only keep cases where both crossed_pair_F1s and crossed_pair_eF1s are defined\n",
    "mask=np.isnan(crossed_pair_F1s)+np.isnan(np.array(crossed_pair_eF1s)) \n",
    "crossed_pair_F1s=np.array(crossed_pair_F1s)\n",
    "\n",
    "corr,p=pearsonr(crossed_pair_F1s[~mask],crossed_pair_eF1s[~mask])\n",
    "\n",
    "plt.title(f\"Pearsonr: {corr:.2f}\")\n",
    "plt.scatter(crossed_pair_F1s,crossed_pair_eF1s)\n",
    "plt.xlabel('Crossed Pair F1')\n",
    "plt.ylabel('Crossed Pair eF1')"
   ]
  },
  {
   "cell_type": "code",
   "execution_count": 26,
   "id": "f624593f",
   "metadata": {
    "execution": {
     "iopub.execute_input": "2024-11-08T20:47:30.714596Z",
     "iopub.status.busy": "2024-11-08T20:47:30.713792Z",
     "iopub.status.idle": "2024-11-08T20:47:30.725127Z",
     "shell.execute_reply": "2024-11-08T20:47:30.724439Z"
    },
    "papermill": {
     "duration": 0.02802,
     "end_time": "2024-11-08T20:47:30.726967",
     "exception": false,
     "start_time": "2024-11-08T20:47:30.698947",
     "status": "completed"
    },
    "tags": []
   },
   "outputs": [],
   "source": [
    "test_data['Rnet_structure']=hungarian_structures\n",
    "test_data['Rnet_global_eF1']=[i['global_ef1'] for i in eF1s]\n",
    "test_data['Rnet_crossed_pair_eF1']=[i['crossed_pair_ef1'] for i in eF1s]\n",
    "test_data['Rnet_global_F1']=F1s\n",
    "test_data['Rnet_crossed_pair_F1']=crossed_pair_F1s\n",
    "test_data.head()\n",
    "test_data.to_csv(\"casp15.csv\")"
   ]
  },
  {
   "cell_type": "code",
   "execution_count": 27,
   "id": "4d2e8b1d",
   "metadata": {
    "execution": {
     "iopub.execute_input": "2024-11-08T20:47:30.755333Z",
     "iopub.status.busy": "2024-11-08T20:47:30.755043Z",
     "iopub.status.idle": "2024-11-08T20:47:30.758834Z",
     "shell.execute_reply": "2024-11-08T20:47:30.757995Z"
    },
    "papermill": {
     "duration": 0.020145,
     "end_time": "2024-11-08T20:47:30.760690",
     "exception": false,
     "start_time": "2024-11-08T20:47:30.740545",
     "status": "completed"
    },
    "tags": []
   },
   "outputs": [],
   "source": [
    "# test=val_test_data[val_test_data[\"train_or_test\"]=='test'].reset_index(drop=True)\n",
    "# val=val_test_data[val_test_data[\"train_or_test\"]=='val'].reset_index(drop=True)\n",
    "\n",
    "# test.to_csv(\"test.csv\",index=False)\n",
    "# val.to_csv(\"val.csv\",index=False)"
   ]
  }
 ],
 "metadata": {
  "kaggle": {
   "accelerator": "gpu",
   "dataSources": [
    {
     "datasetId": 4278124,
     "sourceId": 7364321,
     "sourceType": "datasetVersion"
    },
    {
     "datasetId": 4299404,
     "sourceId": 7395067,
     "sourceType": "datasetVersion"
    },
    {
     "datasetId": 4278078,
     "sourceId": 7633917,
     "sourceType": "datasetVersion"
    },
    {
     "datasetId": 4299272,
     "sourceId": 7639698,
     "sourceType": "datasetVersion"
    },
    {
     "datasetId": 4299302,
     "sourceId": 7649407,
     "sourceType": "datasetVersion"
    },
    {
     "datasetId": 4459124,
     "sourceId": 8318191,
     "sourceType": "datasetVersion"
    }
   ],
   "dockerImageVersionId": 30627,
   "isGpuEnabled": true,
   "isInternetEnabled": true,
   "language": "python",
   "sourceType": "notebook"
  },
  "kernelspec": {
   "display_name": "Python 3",
   "language": "python",
   "name": "python3"
  },
  "language_info": {
   "codemirror_mode": {
    "name": "ipython",
    "version": 3
   },
   "file_extension": ".py",
   "mimetype": "text/x-python",
   "name": "python",
   "nbconvert_exporter": "python",
   "pygments_lexer": "ipython3",
   "version": "3.12.2"
  },
  "papermill": {
   "default_parameters": {},
   "duration": 46.085286,
   "end_time": "2024-11-08T20:47:32.396023",
   "environment_variables": {},
   "exception": null,
   "input_path": "__notebook__.ipynb",
   "output_path": "__notebook__.ipynb",
   "parameters": {},
   "start_time": "2024-11-08T20:46:46.310737",
   "version": "2.4.0"
  }
 },
 "nbformat": 4,
 "nbformat_minor": 5
}
